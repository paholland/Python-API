{
 "cells": [
  {
   "cell_type": "markdown",
   "metadata": {},
   "source": [
    "# WeatherPy\n"
   ]
  },
  {
   "cell_type": "code",
   "execution_count": 1,
   "metadata": {},
   "outputs": [],
   "source": [
    "# Analysis:\n",
    "    \n",
    "# As the latitude incredses or decreases, temperature decreases (City Latitude vs. Max Temperatute plot)   \n",
    "# There is a strong negative correlatiion between latutude and Max Temperature for Northern Hemisphere (The r-squared is: -0.81)    \n",
    "# Cloudiness and the wind speed are spread across the latitude (City Latitude vs. Cloudiness and City Latitude vs. Wind Speed plot)  \n",
    " "
   ]
  },
  {
   "cell_type": "code",
   "execution_count": 2,
   "metadata": {
    "scrolled": true
   },
   "outputs": [],
   "source": [
    "# Dependencies and Setup\n",
    "import matplotlib.pyplot as plt\n",
    "import pandas as pd\n",
    "import numpy as np\n",
    "import requests\n",
    "import time\n",
    "from scipy.stats import linregress\n",
    "import scipy.stats as st\n",
    "import json \n",
    "%matplotlib inline\n",
    "\n",
    "# Import API key\n",
    "from api_keys import weather_api_key\n",
    "\n",
    "# Incorporated citipy to determine city based on latitude and longitude\n",
    "from citipy import citipy\n",
    "\n",
    "# Output File (CSV)\n",
    "output_data_file = \"output_data/cities.csv\"\n",
    "\n",
    "# Range of latitudes and longitudes\n",
    "lat_range = (-90, 90)\n",
    "lng_range = (-180, 180)"
   ]
  },
  {
   "cell_type": "markdown",
   "metadata": {},
   "source": [
    "## Generate Cities List"
   ]
  },
  {
   "cell_type": "code",
   "execution_count": 3,
   "metadata": {},
   "outputs": [
    {
     "data": {
      "text/plain": [
       "['pilar', 'kapaa', 'mount gambier', 'sorvag', 'san cristobal']"
      ]
     },
     "execution_count": 3,
     "metadata": {},
     "output_type": "execute_result"
    }
   ],
   "source": [
    "# List for holding lat_lngs and cities\n",
    "lat_lngs = []\n",
    "cities = []\n",
    "\n",
    "# Create a set of random lat and lng combinations\n",
    "lats = np.random.uniform(lat_range[0], lat_range[1], size=1500)\n",
    "lngs = np.random.uniform(lng_range[0], lng_range[1], size=1500)\n",
    "lat_lngs = zip(lats, lngs)\n",
    "\n",
    "# Identify nearest city for each lat, lng combination\n",
    "for lat_lng in lat_lngs:\n",
    "    city = citipy.nearest_city(lat_lng[0], lat_lng[1]).city_name\n",
    "    \n",
    "    # If the city is unique, then add it to a our cities list\n",
    "    if city not in cities:\n",
    "        cities.append(city)\n",
    "\n",
    "# Print the city count to confirm sufficient count\n",
    "len(cities)\n",
    "\n",
    "cities[:5]"
   ]
  },
  {
   "cell_type": "markdown",
   "metadata": {},
   "source": [
    "### Perform API Calls\n",
    "* Perform a weather check on each city using a series of successive API calls.\n",
    "* Include a print log of each city as it's being processed (with the city number and city name).\n"
   ]
  },
  {
   "cell_type": "code",
   "execution_count": 4,
   "metadata": {},
   "outputs": [
    {
     "name": "stdout",
     "output_type": "stream",
     "text": [
      "{\n",
      "    \"base\": \"stations\",\n",
      "    \"clouds\": {\n",
      "        \"all\": 40\n",
      "    },\n",
      "    \"cod\": 200,\n",
      "    \"coord\": {\n",
      "        \"lat\": 22.08,\n",
      "        \"lon\": -159.32\n",
      "    },\n",
      "    \"dt\": 1591750991,\n",
      "    \"id\": 5848280,\n",
      "    \"main\": {\n",
      "        \"feels_like\": 80.98,\n",
      "        \"humidity\": 70,\n",
      "        \"pressure\": 1018,\n",
      "        \"temp\": 81.86,\n",
      "        \"temp_max\": 84.2,\n",
      "        \"temp_min\": 80.01\n",
      "    },\n",
      "    \"name\": \"Kapaa\",\n",
      "    \"sys\": {\n",
      "        \"country\": \"US\",\n",
      "        \"id\": 7873,\n",
      "        \"sunrise\": 1591717990,\n",
      "        \"sunset\": 1591766426,\n",
      "        \"type\": 1\n",
      "    },\n",
      "    \"timezone\": -36000,\n",
      "    \"visibility\": 16093,\n",
      "    \"weather\": [\n",
      "        {\n",
      "            \"description\": \"scattered clouds\",\n",
      "            \"icon\": \"03d\",\n",
      "            \"id\": 802,\n",
      "            \"main\": \"Clouds\"\n",
      "        }\n",
      "    ],\n",
      "    \"wind\": {\n",
      "        \"deg\": 70,\n",
      "        \"speed\": 16.11\n",
      "    }\n",
      "}\n"
     ]
    }
   ],
   "source": [
    "# Save config information\n",
    "url = \"http://api.openweathermap.org/data/2.5/weather?\"\n",
    "units =\"imperial\"\n",
    "city = \"kapaa\"\n",
    "\n",
    "# Build query URL\n",
    "query_url = url + \"appid=\" + weather_api_key + \"&units=\" + units + \"&q=\" + city\n",
    "\n",
    "# Get weather data\n",
    "weather_response = requests.get(query_url)\n",
    "weather_json = weather_response.json()\n",
    "\n",
    "# Get the temperature from the response\n",
    "#print(f\"The weather API responded with: {weather_json}.\")\n",
    "\n",
    "print(json.dumps(weather_json, indent=4, sort_keys=True))\n",
    "\n",
    "        "
   ]
  },
  {
   "cell_type": "code",
   "execution_count": 5,
   "metadata": {},
   "outputs": [
    {
     "name": "stdout",
     "output_type": "stream",
     "text": [
      "Beginning Data Retrieval\n",
      "-----------------------------\n",
      "Processing Record 1 | pilar\n",
      "Processing Record 2 | kapaa\n",
      "Processing Record 3 | mount gambier\n",
      "City is not found.\n",
      "Processing Record 4 | san cristobal\n",
      "Processing Record 5 | kaitangata\n",
      "Processing Record 6 | punta arenas\n",
      "City is not found.\n",
      "Processing Record 7 | ushuaia\n",
      "Processing Record 8 | tezpur\n",
      "Processing Record 9 | balaipungut\n",
      "Processing Record 10 | del rio\n",
      "Processing Record 11 | luanda\n",
      "City is not found.\n",
      "Processing Record 12 | piranhas\n",
      "Processing Record 13 | butaritari\n",
      "Processing Record 14 | georgetown\n",
      "Processing Record 15 | lazaro cardenas\n",
      "Processing Record 16 | qasigiannguit\n",
      "Processing Record 17 | talnakh\n",
      "Processing Record 18 | albany\n",
      "Processing Record 19 | puerto ayora\n",
      "Processing Record 20 | chokurdakh\n",
      "Processing Record 21 | omboue\n",
      "Processing Record 22 | kamenka\n",
      "Processing Record 23 | bambous virieux\n",
      "Processing Record 24 | goderich\n",
      "Processing Record 25 | atuona\n",
      "Processing Record 26 | khatanga\n",
      "Processing Record 27 | hermanus\n",
      "Processing Record 28 | tasiilaq\n",
      "Processing Record 29 | pochutla\n",
      "Processing Record 30 | madridejos\n",
      "Processing Record 31 | airai\n",
      "Processing Record 32 | yima\n",
      "Processing Record 33 | sitka\n",
      "Processing Record 34 | bluff\n",
      "Processing Record 35 | port hardy\n",
      "Processing Record 36 | hamilton\n",
      "Processing Record 37 | avarua\n",
      "Processing Record 38 | aksay\n",
      "Processing Record 39 | rikitea\n",
      "Processing Record 40 | acapulco\n",
      "Processing Record 41 | pisco\n",
      "Processing Record 42 | fortuna\n",
      "Processing Record 43 | faanui\n",
      "City is not found.\n",
      "Processing Record 44 | kodiak\n",
      "Processing Record 45 | sao joao da barra\n",
      "Processing Record 46 | novikovo\n",
      "Processing Record 47 | xining\n",
      "Processing Record 48 | karratha\n",
      "Processing Record 49 | castro\n",
      "Processing Record 50 | hithadhoo\n",
      "Processing Record 51 | moose factory\n",
      "Processing Record 52 | san antonio del norte\n",
      "Processing Record 53 | vila franca do campo\n",
      "Processing Record 54 | constitucion\n",
      "Processing Record 55 | kavieng\n",
      "Processing Record 56 | ancud\n",
      "Processing Record 57 | maragogi\n",
      "Processing Record 58 | haines junction\n",
      "Processing Record 59 | paragominas\n",
      "Processing Record 60 | coquimbo\n",
      "Processing Record 61 | asau\n",
      "City is not found.\n",
      "Processing Record 62 | isangel\n",
      "Processing Record 63 | bredasdorp\n",
      "Processing Record 64 | te anau\n",
      "Processing Record 65 | husavik\n",
      "Processing Record 66 | ribeira grande\n",
      "Processing Record 67 | port elizabeth\n",
      "Processing Record 68 | cockburn town\n",
      "Processing Record 69 | mataura\n",
      "Processing Record 70 | vila velha\n",
      "Processing Record 71 | mar del plata\n",
      "Processing Record 72 | port alfred\n",
      "Processing Record 73 | lagoa\n",
      "Processing Record 74 | tuktoyaktuk\n",
      "Processing Record 75 | sorong\n",
      "Processing Record 76 | arraial do cabo\n",
      "Processing Record 77 | yumen\n",
      "Processing Record 78 | kukuna\n",
      "Processing Record 79 | coihaique\n",
      "Processing Record 80 | hilo\n",
      "Processing Record 81 | epe\n",
      "Processing Record 82 | surt\n",
      "Processing Record 83 | narsaq\n",
      "Processing Record 84 | gimli\n",
      "Processing Record 85 | mikhaylovsk\n",
      "Processing Record 86 | port lincoln\n",
      "Processing Record 87 | nouadhibou\n",
      "Processing Record 88 | dakar\n",
      "Processing Record 89 | kenora\n",
      "Processing Record 90 | leningradskiy\n",
      "Processing Record 91 | hailey\n",
      "Processing Record 92 | huarmey\n",
      "Processing Record 93 | luwuk\n",
      "Processing Record 94 | qaanaaq\n",
      "Processing Record 95 | areosa\n",
      "Processing Record 96 | yerbogachen\n",
      "Processing Record 97 | souillac\n",
      "City is not found.\n",
      "Processing Record 98 | port blair\n",
      "Processing Record 99 | yellowknife\n",
      "Processing Record 100 | naters\n",
      "Processing Record 101 | lorengau\n",
      "Processing Record 102 | victoria\n",
      "Processing Record 103 | kudahuvadhoo\n",
      "Processing Record 104 | east london\n",
      "Processing Record 105 | huasahuasi\n",
      "Processing Record 106 | salym\n",
      "Processing Record 107 | puerto cabezas\n",
      "Processing Record 108 | barrow\n",
      "City is not found.\n",
      "Processing Record 109 | saint-francois\n",
      "Processing Record 110 | pingliang\n",
      "Processing Record 111 | dikson\n",
      "Processing Record 112 | vaini\n",
      "City is not found.\n",
      "Processing Record 113 | carnarvon\n",
      "Processing Record 114 | lannion\n",
      "Processing Record 115 | chabahar\n",
      "Processing Record 116 | bestobe\n",
      "Processing Record 117 | cape coast\n",
      "Processing Record 118 | adoni\n",
      "Processing Record 119 | kahului\n",
      "City is not found.\n",
      "Processing Record 120 | luderitz\n",
      "Processing Record 121 | ballina\n",
      "Processing Record 122 | shirokiy\n",
      "Processing Record 123 | cape town\n",
      "Processing Record 124 | vincennes\n",
      "Processing Record 125 | lata\n",
      "Processing Record 126 | aklavik\n",
      "Processing Record 127 | new norfolk\n",
      "Processing Record 128 | llaillay\n",
      "Processing Record 129 | iqaluit\n",
      "City is not found.\n",
      "Processing Record 130 | west bay\n",
      "Processing Record 131 | tura\n",
      "Processing Record 132 | aktau\n",
      "City is not found.\n",
      "Processing Record 133 | jamestown\n",
      "Processing Record 134 | ambovombe\n",
      "Processing Record 135 | fasa\n",
      "Processing Record 136 | busselton\n",
      "Processing Record 137 | pinole\n",
      "Processing Record 138 | upernavik\n",
      "Processing Record 139 | atbasar\n",
      "Processing Record 140 | krasnyy oktyabr\n",
      "Processing Record 141 | cherskiy\n",
      "Processing Record 142 | saskylakh\n",
      "Processing Record 143 | vardo\n",
      "Processing Record 144 | hobart\n",
      "Processing Record 145 | hambantota\n",
      "Processing Record 146 | uruzgan\n",
      "Processing Record 147 | ivolginsk\n",
      "City is not found.\n",
      "Processing Record 148 | nikolskoye\n",
      "Processing Record 149 | saint anthony\n",
      "Processing Record 150 | tilichiki\n",
      "Processing Record 151 | tarija\n",
      "Processing Record 152 | norman wells\n",
      "Processing Record 153 | beloha\n",
      "Processing Record 154 | provideniya\n",
      "Processing Record 155 | isla mujeres\n",
      "Processing Record 156 | mindelo\n",
      "Processing Record 157 | severo-kurilsk\n",
      "Processing Record 158 | batagay-alyta\n",
      "Processing Record 159 | kuytun\n",
      "Processing Record 160 | namatanai\n",
      "Processing Record 161 | afyonkarahisar\n",
      "Processing Record 162 | rawson\n",
      "Processing Record 163 | saint-pierre\n",
      "Processing Record 164 | egvekinot\n",
      "Processing Record 165 | lasa\n",
      "Processing Record 166 | cayenne\n",
      "Processing Record 167 | asyut\n",
      "Processing Record 168 | vostok\n",
      "Processing Record 169 | winona\n",
      "Processing Record 170 | petropavlovsk-kamchatskiy\n",
      "Processing Record 171 | gorin\n",
      "Processing Record 172 | tessalit\n",
      "Processing Record 173 | corinto\n",
      "Processing Record 174 | bambui\n",
      "Processing Record 175 | tiksi\n",
      "City is not found.\n",
      "Processing Record 176 | guerrero negro\n",
      "Processing Record 177 | kattivakkam\n",
      "Processing Record 178 | ribeira brava\n",
      "Processing Record 179 | beringovskiy\n",
      "Processing Record 180 | homer\n",
      "Processing Record 181 | kenai\n",
      "Processing Record 182 | san antonio\n",
      "Processing Record 183 | harper\n",
      "Processing Record 184 | bac\n",
      "Processing Record 185 | port hawkesbury\n",
      "Processing Record 186 | canyon\n",
      "Processing Record 187 | tabou\n",
      "Processing Record 188 | esperance\n",
      "Processing Record 189 | bereda\n",
      "Processing Record 190 | bartica\n",
      "Processing Record 191 | havelock\n",
      "Processing Record 192 | sinnamary\n",
      "Processing Record 193 | sevierville\n",
      "Processing Record 194 | juntas\n",
      "Processing Record 195 | brae\n",
      "Processing Record 196 | saint-philippe\n",
      "Processing Record 197 | jinxiang\n",
      "Processing Record 198 | maputo\n",
      "Processing Record 199 | saldanha\n",
      "Processing Record 200 | winton\n",
      "Processing Record 201 | anzio\n",
      "Processing Record 202 | chuy\n",
      "Processing Record 203 | ibiruba\n",
      "City is not found.\n",
      "Processing Record 204 | macia\n",
      "Processing Record 205 | marinette\n",
      "Processing Record 206 | mananjary\n",
      "Processing Record 207 | panaba\n",
      "Processing Record 208 | boende\n",
      "City is not found.\n",
      "Processing Record 209 | nancha\n",
      "Processing Record 210 | asilah\n",
      "City is not found.\n",
      "City is not found.\n",
      "Processing Record 211 | la paz\n",
      "Processing Record 212 | zhanaozen\n",
      "Processing Record 213 | ballybofey\n",
      "Processing Record 214 | alyangula\n",
      "Processing Record 215 | mahebourg\n",
      "Processing Record 216 | xixiang\n",
      "Processing Record 217 | eyl\n",
      "Processing Record 218 | khani\n",
      "Processing Record 219 | viesca\n",
      "Processing Record 220 | kruisfontein\n",
      "Processing Record 221 | ambilobe\n",
      "Processing Record 222 | pahrump\n",
      "Processing Record 223 | hillsboro\n",
      "Processing Record 224 | manbij\n",
      "City is not found.\n",
      "City is not found.\n",
      "Processing Record 225 | karasjok\n",
      "Processing Record 226 | salgueiro\n",
      "Processing Record 227 | muscat\n",
      "Processing Record 228 | turukhansk\n",
      "Processing Record 229 | daru\n",
      "Processing Record 230 | walvis bay\n",
      "Processing Record 231 | gambela\n",
      "Processing Record 232 | jacareacanga\n",
      "Processing Record 233 | brigantine\n",
      "City is not found.\n",
      "Processing Record 234 | torbay\n",
      "Processing Record 235 | maniitsoq\n",
      "Processing Record 236 | tena\n",
      "Processing Record 237 | caravelas\n",
      "Processing Record 238 | bengkulu\n"
     ]
    },
    {
     "name": "stdout",
     "output_type": "stream",
     "text": [
      "Processing Record 239 | antalaha\n",
      "Processing Record 240 | ganzhou\n",
      "Processing Record 241 | lompoc\n",
      "City is not found.\n",
      "Processing Record 242 | mehran\n",
      "Processing Record 243 | fairbanks\n",
      "Processing Record 244 | kushmurun\n",
      "Processing Record 245 | abu dhabi\n",
      "Processing Record 246 | pemangkat\n",
      "Processing Record 247 | ivankiv\n",
      "Processing Record 248 | paita\n",
      "Processing Record 249 | kieta\n",
      "Processing Record 250 | lebu\n",
      "Processing Record 251 | gat\n",
      "Processing Record 252 | laguna\n",
      "Processing Record 253 | college\n",
      "Processing Record 254 | baruun-urt\n",
      "Processing Record 255 | tonantins\n",
      "Processing Record 256 | sorland\n",
      "Processing Record 257 | yatou\n",
      "Processing Record 258 | benguela\n",
      "Processing Record 259 | gnjilane\n",
      "Processing Record 260 | itarema\n",
      "Processing Record 261 | norrtalje\n",
      "Processing Record 262 | matagami\n",
      "Processing Record 263 | mareeba\n",
      "Processing Record 264 | chake chake\n",
      "Processing Record 265 | mchinji\n",
      "City is not found.\n",
      "City is not found.\n",
      "Processing Record 266 | madimba\n",
      "Processing Record 267 | bethel\n",
      "Processing Record 268 | naron\n",
      "Processing Record 269 | berga\n",
      "Processing Record 270 | pangani\n",
      "Processing Record 271 | vestmannaeyjar\n",
      "Processing Record 272 | cururupu\n",
      "Processing Record 273 | fujin\n",
      "Processing Record 274 | buala\n",
      "Processing Record 275 | havre-saint-pierre\n",
      "Processing Record 276 | plettenberg bay\n",
      "Processing Record 277 | lusambo\n",
      "Processing Record 278 | katsuura\n",
      "City is not found.\n",
      "Processing Record 279 | coleraine\n",
      "Processing Record 280 | maceio\n",
      "Processing Record 281 | qingdao\n",
      "Processing Record 282 | berlevag\n",
      "Processing Record 283 | flinders\n",
      "Processing Record 284 | montanha\n",
      "City is not found.\n",
      "Processing Record 285 | seminole\n",
      "Processing Record 286 | wajima\n",
      "Processing Record 287 | henties bay\n",
      "Processing Record 288 | conceicao do araguaia\n",
      "Processing Record 289 | san carlos\n",
      "Processing Record 290 | cidreira\n",
      "Processing Record 291 | emba\n",
      "Processing Record 292 | kavaratti\n",
      "Processing Record 293 | kaeo\n",
      "Processing Record 294 | codrington\n",
      "Processing Record 295 | ahipara\n",
      "Processing Record 296 | severodvinsk\n",
      "Processing Record 297 | pevek\n",
      "Processing Record 298 | longyearbyen\n",
      "Processing Record 299 | fort nelson\n",
      "Processing Record 300 | fort-shevchenko\n",
      "Processing Record 301 | skegness\n",
      "Processing Record 302 | zhuji\n",
      "Processing Record 303 | vanavara\n",
      "Processing Record 304 | hualmay\n",
      "Processing Record 305 | clyde river\n",
      "Processing Record 306 | biak\n",
      "Processing Record 307 | sabha\n",
      "Processing Record 308 | tiznit\n",
      "Processing Record 309 | thompson\n",
      "Processing Record 310 | marystown\n",
      "Processing Record 311 | tuatapere\n",
      "Processing Record 312 | ponta do sol\n",
      "Processing Record 313 | the valley\n",
      "Processing Record 314 | charters towers\n",
      "City is not found.\n",
      "Processing Record 315 | amuntai\n",
      "Processing Record 316 | jalu\n",
      "Processing Record 317 | sambava\n",
      "City is not found.\n",
      "Processing Record 318 | minab\n",
      "Processing Record 319 | yar-sale\n",
      "Processing Record 320 | shimanovsk\n",
      "City is not found.\n",
      "Processing Record 321 | dingle\n",
      "Processing Record 322 | kachug\n",
      "Processing Record 323 | dovolnoye\n",
      "Processing Record 324 | ostersund\n",
      "Processing Record 325 | san patricio\n",
      "Processing Record 326 | aden\n",
      "Processing Record 327 | lavrentiya\n",
      "Processing Record 328 | ketchikan\n",
      "Processing Record 329 | dunedin\n",
      "City is not found.\n",
      "Processing Record 330 | darhan\n",
      "Processing Record 331 | egersund\n",
      "Processing Record 332 | bosaso\n",
      "Processing Record 333 | shingu\n",
      "Processing Record 334 | comodoro rivadavia\n",
      "Processing Record 335 | bathsheba\n",
      "Processing Record 336 | srednekolymsk\n",
      "Processing Record 337 | deputatskiy\n",
      "Processing Record 338 | sagu\n",
      "Processing Record 339 | virginia beach\n",
      "Processing Record 340 | touros\n",
      "Processing Record 341 | iwanai\n",
      "Processing Record 342 | urbano santos\n",
      "Processing Record 343 | teguldet\n",
      "Processing Record 344 | kitob\n",
      "Processing Record 345 | faya\n",
      "Processing Record 346 | langsa\n",
      "Processing Record 347 | paysandu\n",
      "Processing Record 348 | burns lake\n",
      "Processing Record 349 | mitchell\n",
      "Processing Record 350 | vao\n",
      "Processing Record 351 | midland\n",
      "Processing Record 352 | mantua\n",
      "Processing Record 353 | sungaipenuh\n",
      "Processing Record 354 | merauke\n",
      "Processing Record 355 | belmonte\n",
      "Processing Record 356 | padang\n",
      "Processing Record 357 | wenling\n",
      "Processing Record 358 | brewster\n",
      "Processing Record 359 | todos santos\n",
      "Processing Record 360 | mogadishu\n",
      "Processing Record 361 | bilibino\n",
      "Processing Record 362 | shimabara\n",
      "Processing Record 363 | chesma\n",
      "Processing Record 364 | bafoulabe\n",
      "Processing Record 365 | kysyl-syr\n",
      "Processing Record 366 | villa carlos paz\n",
      "Processing Record 367 | meulaboh\n",
      "Processing Record 368 | ust-kan\n",
      "Processing Record 369 | port pirie\n",
      "Processing Record 370 | shieli\n",
      "Processing Record 371 | high rock\n",
      "Processing Record 372 | saint-joseph\n",
      "Processing Record 373 | naberera\n",
      "Processing Record 374 | la primavera\n",
      "Processing Record 375 | linhares\n",
      "Processing Record 376 | oranjemund\n",
      "Processing Record 377 | belaya gora\n",
      "Processing Record 378 | khatassy\n",
      "Processing Record 379 | kalmar\n",
      "Processing Record 380 | bulembu\n",
      "City is not found.\n",
      "Processing Record 381 | gloversville\n",
      "Processing Record 382 | leh\n",
      "Processing Record 383 | nabire\n",
      "Processing Record 384 | saint-augustin\n",
      "Processing Record 385 | ormara\n",
      "Processing Record 386 | bud\n",
      "Processing Record 387 | yazman\n",
      "Processing Record 388 | agadir\n",
      "Processing Record 389 | lake havasu city\n",
      "Processing Record 390 | sibolga\n",
      "Processing Record 391 | arman\n",
      "Processing Record 392 | puerto madryn\n",
      "Processing Record 393 | calvinia\n",
      "Processing Record 394 | honiara\n",
      "Processing Record 395 | altay\n",
      "Processing Record 396 | tongren\n",
      "Processing Record 397 | atambua\n",
      "Processing Record 398 | urdoma\n",
      "Processing Record 399 | malakal\n",
      "Processing Record 400 | nome\n",
      "Processing Record 401 | sao domingos do maranhao\n",
      "Processing Record 402 | kontagora\n",
      "City is not found.\n",
      "Processing Record 403 | chengde\n",
      "Processing Record 404 | kimbe\n",
      "Processing Record 405 | ilulissat\n",
      "City is not found.\n",
      "Processing Record 406 | sirjan\n",
      "Processing Record 407 | guiyang\n",
      "Processing Record 408 | shelburne\n",
      "Processing Record 409 | mehamn\n",
      "Processing Record 410 | gogrial\n",
      "Processing Record 411 | vanimo\n",
      "Processing Record 412 | santa cruz\n",
      "Processing Record 413 | zonguldak\n",
      "Processing Record 414 | wad madani\n",
      "Processing Record 415 | guhagar\n",
      "Processing Record 416 | makushino\n",
      "Processing Record 417 | nantucket\n",
      "Processing Record 418 | bilma\n",
      "City is not found.\n",
      "Processing Record 419 | pamatawan\n",
      "Processing Record 420 | virton\n",
      "Processing Record 421 | bathurst\n",
      "Processing Record 422 | ginda\n",
      "Processing Record 423 | fergus falls\n",
      "Processing Record 424 | luau\n",
      "Processing Record 425 | timaru\n",
      "Processing Record 426 | balyaga\n",
      "Processing Record 427 | salina\n",
      "Processing Record 428 | saint george\n",
      "Processing Record 429 | soyo\n",
      "Processing Record 430 | chaiya\n",
      "Processing Record 431 | petropavlovka\n",
      "Processing Record 432 | mayfield\n",
      "Processing Record 433 | sawai madhopur\n",
      "Processing Record 434 | shiraoi\n",
      "Processing Record 435 | djibo\n",
      "Processing Record 436 | ormond beach\n",
      "Processing Record 437 | chumikan\n",
      "Processing Record 438 | klaksvik\n",
      "Processing Record 439 | tombouctou\n",
      "Processing Record 440 | filadelfia\n",
      "Processing Record 441 | rovaniemi\n",
      "Processing Record 442 | hachinohe\n",
      "Processing Record 443 | lanzhou\n",
      "Processing Record 444 | warrington\n",
      "Processing Record 445 | magistralnyy\n",
      "City is not found.\n",
      "Processing Record 446 | hasaki\n",
      "Processing Record 447 | santa maria\n",
      "Processing Record 448 | beira\n",
      "Processing Record 449 | hami\n",
      "Processing Record 450 | porto santo\n",
      "Processing Record 451 | anadyr\n",
      "Processing Record 452 | hovd\n",
      "City is not found.\n",
      "City is not found.\n",
      "City is not found.\n",
      "Processing Record 453 | jolalpan\n",
      "Processing Record 454 | mongo\n",
      "Processing Record 455 | paamiut\n",
      "Processing Record 456 | kemijarvi\n",
      "Processing Record 457 | kelvington\n",
      "Processing Record 458 | trat\n",
      "Processing Record 459 | vredendal\n",
      "Processing Record 460 | novyy urengoy\n",
      "Processing Record 461 | manokwari\n",
      "Processing Record 462 | olcea\n",
      "Processing Record 463 | san jose\n",
      "Processing Record 464 | de-kastri\n",
      "City is not found.\n",
      "Processing Record 465 | salalah\n",
      "Processing Record 466 | vetlanda\n",
      "Processing Record 467 | chegdomyn\n",
      "Processing Record 468 | stalowa wola\n",
      "Processing Record 469 | bac lieu\n",
      "Processing Record 470 | cap-chat\n",
      "City is not found.\n",
      "Processing Record 471 | xiuyan\n",
      "Processing Record 472 | grindavik\n",
      "Processing Record 473 | maturin\n",
      "Processing Record 474 | svetlaya\n",
      "Processing Record 475 | nuuk\n"
     ]
    },
    {
     "name": "stdout",
     "output_type": "stream",
     "text": [
      "Processing Record 476 | susanville\n",
      "Processing Record 477 | santo angelo\n",
      "Processing Record 478 | peace river\n",
      "Processing Record 479 | zabolotiv\n",
      "Processing Record 480 | dalnerechensk\n",
      "Processing Record 481 | catamarca\n",
      "Processing Record 482 | kincardine\n",
      "Processing Record 483 | patrocinio\n",
      "City is not found.\n",
      "Processing Record 484 | hamada\n",
      "Processing Record 485 | muros\n",
      "Processing Record 486 | richards bay\n",
      "Processing Record 487 | riverton\n",
      "Processing Record 488 | edson\n",
      "Processing Record 489 | porto nacional\n",
      "City is not found.\n",
      "Processing Record 490 | sisimiut\n",
      "Processing Record 491 | praia da vitoria\n",
      "Processing Record 492 | katherine\n",
      "Processing Record 493 | jand\n",
      "Processing Record 494 | mattoon\n",
      "City is not found.\n",
      "Processing Record 495 | kirakira\n",
      "Processing Record 496 | trairi\n",
      "Processing Record 497 | quatre cocos\n",
      "Processing Record 498 | sola\n",
      "Processing Record 499 | alofi\n",
      "Processing Record 500 | gandiaye\n",
      "Processing Record 501 | labuhan\n",
      "Processing Record 502 | mitu\n",
      "Processing Record 503 | togur\n",
      "Processing Record 504 | arlit\n",
      "Processing Record 505 | samarai\n",
      "Processing Record 506 | nanortalik\n",
      "Processing Record 507 | butterworth\n",
      "Processing Record 508 | mumford\n",
      "Processing Record 509 | abrego\n",
      "Processing Record 510 | banda aceh\n",
      "Processing Record 511 | troitsko-pechorsk\n",
      "Processing Record 512 | sao felix do xingu\n",
      "Processing Record 513 | la ciotat\n",
      "Processing Record 514 | nueva esperanza\n",
      "Processing Record 515 | wakkanai\n",
      "Processing Record 516 | hofn\n",
      "Processing Record 517 | biltine\n",
      "Processing Record 518 | andenes\n",
      "Processing Record 519 | sabang\n",
      "Processing Record 520 | uniao dos palmares\n",
      "Processing Record 521 | hastings\n",
      "Processing Record 522 | russell\n",
      "Processing Record 523 | geraldton\n",
      "Processing Record 524 | saint-georges\n",
      "Processing Record 525 | vila do maio\n",
      "Processing Record 526 | terrace\n",
      "Processing Record 527 | snezhnogorsk\n",
      "Processing Record 528 | porto novo\n",
      "City is not found.\n",
      "Processing Record 529 | cabo san lucas\n",
      "Processing Record 530 | ulaangom\n",
      "Processing Record 531 | bani\n",
      "Processing Record 532 | coahuayana\n",
      "Processing Record 533 | boa vista\n",
      "Processing Record 534 | aripuana\n",
      "Processing Record 535 | bay roberts\n",
      "Processing Record 536 | senftenberg\n",
      "Processing Record 537 | krasnoselkup\n",
      "Processing Record 538 | freeport\n",
      "Processing Record 539 | zehdenick\n",
      "Processing Record 540 | roebourne\n",
      "Processing Record 541 | damara\n",
      "Processing Record 542 | bamnet narong\n",
      "Processing Record 543 | xiaoweizhai\n",
      "Processing Record 544 | ishigaki\n",
      "Processing Record 545 | roma\n",
      "Processing Record 546 | sao fidelis\n",
      "Processing Record 547 | arnia\n",
      "Processing Record 548 | lodwar\n",
      "Processing Record 549 | patan\n",
      "Processing Record 550 | siwana\n",
      "City is not found.\n",
      "Processing Record 551 | imelda\n",
      "Processing Record 552 | gandai\n",
      "City is not found.\n",
      "Processing Record 553 | tarauaca\n",
      "Processing Record 554 | duluth\n",
      "Processing Record 555 | almaznyy\n",
      "Processing Record 556 | tancheng\n",
      "Processing Record 557 | inhambane\n",
      "Processing Record 558 | rampura\n",
      "Processing Record 559 | verkhnevilyuysk\n",
      "Processing Record 560 | tarko-sale\n",
      "Processing Record 561 | panama city\n",
      "Processing Record 562 | san ramon de la nueva oran\n",
      "Processing Record 563 | ames\n",
      "Processing Record 564 | manicore\n",
      "___________End of Retrieval_____________\n"
     ]
    }
   ],
   "source": [
    "# Save config information.\n",
    "url = \"http://api.openweathermap.org/data/2.5/weather?\"\n",
    "units = \"imperial\"\n",
    "\n",
    "# Build partial query URL\n",
    "query_url = f\"{url}appid={weather_api_key}&units={units}&q=\"\n",
    "\n",
    "\n",
    "# set up lists to hold reponse info\n",
    "lat=[]\n",
    "temp=[]\n",
    "lon=[]\n",
    "humidity=[]\n",
    "cloudiness=[]\n",
    "wind_speed=[]\n",
    "city_names=[]\n",
    "country=[]\n",
    "date=[]\n",
    "\n",
    "# Loop through the list of cities and perform a request for data on each\n",
    "print(f\"Beginning Data Retrieval\")\n",
    "print(\"-----------------------------\")\n",
    "record_count = 1\n",
    "for city in cities:\n",
    "    try:\n",
    "        response = requests.get(query_url + city).json()\n",
    "        lat.append(response['coord']['lat'])\n",
    "        temp.append(response['main']['temp_max'])\n",
    "        lon.append(response['coord']['lon'])\n",
    "        humidity.append(response['main']['humidity'])\n",
    "        cloudiness.append(response['clouds']['all'])\n",
    "        wind_speed.append(response['wind']['speed'])\n",
    "        country.append(response['sys']['country'])\n",
    "        date.append(response['dt'])\n",
    "        city_names.append(city)   \n",
    "    \n",
    "        #time.sleep(1)\n",
    "        \n",
    "        print(f\"Processing Record {record_count} | {city}\") \n",
    "        record_count= record_count + 1\n",
    "    except:\n",
    "        print(\"City is not found.\")\n",
    "print(\"___________End of Retrieval_____________\")"
   ]
  },
  {
   "cell_type": "markdown",
   "metadata": {},
   "source": [
    "### Convert Raw Data to DataFrame\n",
    "* Export the city data into a .csv.\n",
    "* Display the DataFrame"
   ]
  },
  {
   "cell_type": "code",
   "execution_count": 6,
   "metadata": {
    "scrolled": true
   },
   "outputs": [
    {
     "data": {
      "text/html": [
       "<div>\n",
       "<style scoped>\n",
       "    .dataframe tbody tr th:only-of-type {\n",
       "        vertical-align: middle;\n",
       "    }\n",
       "\n",
       "    .dataframe tbody tr th {\n",
       "        vertical-align: top;\n",
       "    }\n",
       "\n",
       "    .dataframe thead th {\n",
       "        text-align: right;\n",
       "    }\n",
       "</style>\n",
       "<table border=\"1\" class=\"dataframe\">\n",
       "  <thead>\n",
       "    <tr style=\"text-align: right;\">\n",
       "      <th></th>\n",
       "      <th>City</th>\n",
       "      <th>Country</th>\n",
       "      <th>Lat</th>\n",
       "      <th>Lng</th>\n",
       "      <th>Max Temperature (F)</th>\n",
       "      <th>Humidity (%)</th>\n",
       "      <th>Cloudiness (%)</th>\n",
       "      <th>Wind Speed (mph)</th>\n",
       "      <th>Date(dt)</th>\n",
       "    </tr>\n",
       "  </thead>\n",
       "  <tbody>\n",
       "    <tr>\n",
       "      <td>0</td>\n",
       "      <td>pilar</td>\n",
       "      <td>BR</td>\n",
       "      <td>-9.60</td>\n",
       "      <td>-35.96</td>\n",
       "      <td>75.20</td>\n",
       "      <td>88</td>\n",
       "      <td>75</td>\n",
       "      <td>1.12</td>\n",
       "      <td>1591750991</td>\n",
       "    </tr>\n",
       "    <tr>\n",
       "      <td>1</td>\n",
       "      <td>kapaa</td>\n",
       "      <td>US</td>\n",
       "      <td>22.08</td>\n",
       "      <td>-159.32</td>\n",
       "      <td>84.20</td>\n",
       "      <td>70</td>\n",
       "      <td>40</td>\n",
       "      <td>16.11</td>\n",
       "      <td>1591750991</td>\n",
       "    </tr>\n",
       "    <tr>\n",
       "      <td>2</td>\n",
       "      <td>mount gambier</td>\n",
       "      <td>AU</td>\n",
       "      <td>-37.83</td>\n",
       "      <td>140.77</td>\n",
       "      <td>44.60</td>\n",
       "      <td>87</td>\n",
       "      <td>0</td>\n",
       "      <td>8.05</td>\n",
       "      <td>1591750991</td>\n",
       "    </tr>\n",
       "    <tr>\n",
       "      <td>3</td>\n",
       "      <td>san cristobal</td>\n",
       "      <td>VE</td>\n",
       "      <td>7.77</td>\n",
       "      <td>-72.22</td>\n",
       "      <td>86.00</td>\n",
       "      <td>48</td>\n",
       "      <td>75</td>\n",
       "      <td>21.92</td>\n",
       "      <td>1591750992</td>\n",
       "    </tr>\n",
       "    <tr>\n",
       "      <td>4</td>\n",
       "      <td>kaitangata</td>\n",
       "      <td>NZ</td>\n",
       "      <td>-46.28</td>\n",
       "      <td>169.85</td>\n",
       "      <td>55.51</td>\n",
       "      <td>58</td>\n",
       "      <td>15</td>\n",
       "      <td>12.06</td>\n",
       "      <td>1591750992</td>\n",
       "    </tr>\n",
       "    <tr>\n",
       "      <td>...</td>\n",
       "      <td>...</td>\n",
       "      <td>...</td>\n",
       "      <td>...</td>\n",
       "      <td>...</td>\n",
       "      <td>...</td>\n",
       "      <td>...</td>\n",
       "      <td>...</td>\n",
       "      <td>...</td>\n",
       "      <td>...</td>\n",
       "    </tr>\n",
       "    <tr>\n",
       "      <td>559</td>\n",
       "      <td>tarko-sale</td>\n",
       "      <td>RU</td>\n",
       "      <td>64.92</td>\n",
       "      <td>77.78</td>\n",
       "      <td>63.00</td>\n",
       "      <td>78</td>\n",
       "      <td>100</td>\n",
       "      <td>7.18</td>\n",
       "      <td>1591751105</td>\n",
       "    </tr>\n",
       "    <tr>\n",
       "      <td>560</td>\n",
       "      <td>panama city</td>\n",
       "      <td>PA</td>\n",
       "      <td>8.99</td>\n",
       "      <td>-79.52</td>\n",
       "      <td>78.80</td>\n",
       "      <td>88</td>\n",
       "      <td>75</td>\n",
       "      <td>3.36</td>\n",
       "      <td>1591750935</td>\n",
       "    </tr>\n",
       "    <tr>\n",
       "      <td>561</td>\n",
       "      <td>san ramon de la nueva oran</td>\n",
       "      <td>AR</td>\n",
       "      <td>-23.13</td>\n",
       "      <td>-64.33</td>\n",
       "      <td>63.12</td>\n",
       "      <td>86</td>\n",
       "      <td>100</td>\n",
       "      <td>1.59</td>\n",
       "      <td>1591751105</td>\n",
       "    </tr>\n",
       "    <tr>\n",
       "      <td>562</td>\n",
       "      <td>ames</td>\n",
       "      <td>US</td>\n",
       "      <td>42.03</td>\n",
       "      <td>-93.62</td>\n",
       "      <td>75.20</td>\n",
       "      <td>78</td>\n",
       "      <td>75</td>\n",
       "      <td>9.17</td>\n",
       "      <td>1591750912</td>\n",
       "    </tr>\n",
       "    <tr>\n",
       "      <td>563</td>\n",
       "      <td>manicore</td>\n",
       "      <td>BR</td>\n",
       "      <td>-5.81</td>\n",
       "      <td>-61.30</td>\n",
       "      <td>78.80</td>\n",
       "      <td>94</td>\n",
       "      <td>15</td>\n",
       "      <td>1.23</td>\n",
       "      <td>1591751106</td>\n",
       "    </tr>\n",
       "  </tbody>\n",
       "</table>\n",
       "<p>564 rows × 9 columns</p>\n",
       "</div>"
      ],
      "text/plain": [
       "                           City Country    Lat     Lng  Max Temperature (F)  \\\n",
       "0                         pilar      BR  -9.60  -35.96                75.20   \n",
       "1                         kapaa      US  22.08 -159.32                84.20   \n",
       "2                 mount gambier      AU -37.83  140.77                44.60   \n",
       "3                 san cristobal      VE   7.77  -72.22                86.00   \n",
       "4                    kaitangata      NZ -46.28  169.85                55.51   \n",
       "..                          ...     ...    ...     ...                  ...   \n",
       "559                  tarko-sale      RU  64.92   77.78                63.00   \n",
       "560                 panama city      PA   8.99  -79.52                78.80   \n",
       "561  san ramon de la nueva oran      AR -23.13  -64.33                63.12   \n",
       "562                        ames      US  42.03  -93.62                75.20   \n",
       "563                    manicore      BR  -5.81  -61.30                78.80   \n",
       "\n",
       "     Humidity (%)  Cloudiness (%)  Wind Speed (mph)    Date(dt)  \n",
       "0              88              75              1.12  1591750991  \n",
       "1              70              40             16.11  1591750991  \n",
       "2              87               0              8.05  1591750991  \n",
       "3              48              75             21.92  1591750992  \n",
       "4              58              15             12.06  1591750992  \n",
       "..            ...             ...               ...         ...  \n",
       "559            78             100              7.18  1591751105  \n",
       "560            88              75              3.36  1591750935  \n",
       "561            86             100              1.59  1591751105  \n",
       "562            78              75              9.17  1591750912  \n",
       "563            94              15              1.23  1591751106  \n",
       "\n",
       "[564 rows x 9 columns]"
      ]
     },
     "execution_count": 6,
     "metadata": {},
     "output_type": "execute_result"
    }
   ],
   "source": [
    "main_df = pd.DataFrame(\n",
    "    {\"City\": city_names,\n",
    "     \"Country\": country,\n",
    "     \"Lat\": lat,\n",
    "     \"Lng\": lon,\n",
    "     \"Max Temperature (F)\": temp,\n",
    "     \"Humidity (%)\": humidity,\n",
    "     \"Cloudiness (%)\": cloudiness,\n",
    "     \"Wind Speed (mph)\": wind_speed,\n",
    "     \"Date(dt)\": date\n",
    "    })\n",
    "\n",
    "main_df\n"
   ]
  },
  {
   "cell_type": "code",
   "execution_count": 7,
   "metadata": {},
   "outputs": [
    {
     "data": {
      "text/plain": [
       "City                   564\n",
       "Country                564\n",
       "Lat                    564\n",
       "Lng                    564\n",
       "Max Temperature (F)    564\n",
       "Humidity (%)           564\n",
       "Cloudiness (%)         564\n",
       "Wind Speed (mph)       564\n",
       "Date(dt)               564\n",
       "dtype: int64"
      ]
     },
     "execution_count": 7,
     "metadata": {},
     "output_type": "execute_result"
    }
   ],
   "source": [
    "main_df.count()"
   ]
  },
  {
   "cell_type": "code",
   "execution_count": 8,
   "metadata": {},
   "outputs": [],
   "source": [
    "# Export the City_Data into a csv\n",
    "\n",
    "main_df.to_csv(\"output_data/cities.csv\", encoding=\"utf-8\", index=False)"
   ]
  },
  {
   "cell_type": "markdown",
   "metadata": {},
   "source": [
    "## Inspect the data and remove the cities where the humidity > 100%.\n",
    "----\n",
    "Skip this step if there are no cities that have humidity > 100%. "
   ]
  },
  {
   "cell_type": "code",
   "execution_count": 9,
   "metadata": {},
   "outputs": [
    {
     "data": {
      "text/plain": [
       "100"
      ]
     },
     "execution_count": 9,
     "metadata": {},
     "output_type": "execute_result"
    }
   ],
   "source": [
    "# #drop records with humidity over a hundred, new ref to data frame updated_df\n",
    "# updated_df = main_df.loc[main_df[\"Cities\"][\"Humidity (%)\"]]\n",
    "\n",
    "main_df[\"Humidity (%)\"].max()\n"
   ]
  },
  {
   "cell_type": "code",
   "execution_count": 10,
   "metadata": {},
   "outputs": [
    {
     "name": "stdout",
     "output_type": "stream",
     "text": [
      "Int64Index([], dtype='int64')\n"
     ]
    }
   ],
   "source": [
    "# Get the indices of cities that have humidity over 100%.\n",
    "\n",
    "hum_ind_df = main_df[main_df['Humidity (%)'] > 100].index\n",
    "print(hum_ind_df)\n"
   ]
  },
  {
   "cell_type": "code",
   "execution_count": 11,
   "metadata": {},
   "outputs": [
    {
     "data": {
      "text/html": [
       "<div>\n",
       "<style scoped>\n",
       "    .dataframe tbody tr th:only-of-type {\n",
       "        vertical-align: middle;\n",
       "    }\n",
       "\n",
       "    .dataframe tbody tr th {\n",
       "        vertical-align: top;\n",
       "    }\n",
       "\n",
       "    .dataframe thead th {\n",
       "        text-align: right;\n",
       "    }\n",
       "</style>\n",
       "<table border=\"1\" class=\"dataframe\">\n",
       "  <thead>\n",
       "    <tr style=\"text-align: right;\">\n",
       "      <th></th>\n",
       "      <th>City</th>\n",
       "      <th>Country</th>\n",
       "      <th>Lat</th>\n",
       "      <th>Lng</th>\n",
       "      <th>Max Temperature (F)</th>\n",
       "      <th>Humidity (%)</th>\n",
       "      <th>Cloudiness (%)</th>\n",
       "      <th>Wind Speed (mph)</th>\n",
       "      <th>Date(dt)</th>\n",
       "    </tr>\n",
       "  </thead>\n",
       "  <tbody>\n",
       "    <tr>\n",
       "      <td>0</td>\n",
       "      <td>pilar</td>\n",
       "      <td>BR</td>\n",
       "      <td>-9.60</td>\n",
       "      <td>-35.96</td>\n",
       "      <td>75.20</td>\n",
       "      <td>88</td>\n",
       "      <td>75</td>\n",
       "      <td>1.12</td>\n",
       "      <td>1591750991</td>\n",
       "    </tr>\n",
       "    <tr>\n",
       "      <td>1</td>\n",
       "      <td>kapaa</td>\n",
       "      <td>US</td>\n",
       "      <td>22.08</td>\n",
       "      <td>-159.32</td>\n",
       "      <td>84.20</td>\n",
       "      <td>70</td>\n",
       "      <td>40</td>\n",
       "      <td>16.11</td>\n",
       "      <td>1591750991</td>\n",
       "    </tr>\n",
       "    <tr>\n",
       "      <td>2</td>\n",
       "      <td>mount gambier</td>\n",
       "      <td>AU</td>\n",
       "      <td>-37.83</td>\n",
       "      <td>140.77</td>\n",
       "      <td>44.60</td>\n",
       "      <td>87</td>\n",
       "      <td>0</td>\n",
       "      <td>8.05</td>\n",
       "      <td>1591750991</td>\n",
       "    </tr>\n",
       "    <tr>\n",
       "      <td>3</td>\n",
       "      <td>san cristobal</td>\n",
       "      <td>VE</td>\n",
       "      <td>7.77</td>\n",
       "      <td>-72.22</td>\n",
       "      <td>86.00</td>\n",
       "      <td>48</td>\n",
       "      <td>75</td>\n",
       "      <td>21.92</td>\n",
       "      <td>1591750992</td>\n",
       "    </tr>\n",
       "    <tr>\n",
       "      <td>4</td>\n",
       "      <td>kaitangata</td>\n",
       "      <td>NZ</td>\n",
       "      <td>-46.28</td>\n",
       "      <td>169.85</td>\n",
       "      <td>55.51</td>\n",
       "      <td>58</td>\n",
       "      <td>15</td>\n",
       "      <td>12.06</td>\n",
       "      <td>1591750992</td>\n",
       "    </tr>\n",
       "    <tr>\n",
       "      <td>...</td>\n",
       "      <td>...</td>\n",
       "      <td>...</td>\n",
       "      <td>...</td>\n",
       "      <td>...</td>\n",
       "      <td>...</td>\n",
       "      <td>...</td>\n",
       "      <td>...</td>\n",
       "      <td>...</td>\n",
       "      <td>...</td>\n",
       "    </tr>\n",
       "    <tr>\n",
       "      <td>559</td>\n",
       "      <td>tarko-sale</td>\n",
       "      <td>RU</td>\n",
       "      <td>64.92</td>\n",
       "      <td>77.78</td>\n",
       "      <td>63.00</td>\n",
       "      <td>78</td>\n",
       "      <td>100</td>\n",
       "      <td>7.18</td>\n",
       "      <td>1591751105</td>\n",
       "    </tr>\n",
       "    <tr>\n",
       "      <td>560</td>\n",
       "      <td>panama city</td>\n",
       "      <td>PA</td>\n",
       "      <td>8.99</td>\n",
       "      <td>-79.52</td>\n",
       "      <td>78.80</td>\n",
       "      <td>88</td>\n",
       "      <td>75</td>\n",
       "      <td>3.36</td>\n",
       "      <td>1591750935</td>\n",
       "    </tr>\n",
       "    <tr>\n",
       "      <td>561</td>\n",
       "      <td>san ramon de la nueva oran</td>\n",
       "      <td>AR</td>\n",
       "      <td>-23.13</td>\n",
       "      <td>-64.33</td>\n",
       "      <td>63.12</td>\n",
       "      <td>86</td>\n",
       "      <td>100</td>\n",
       "      <td>1.59</td>\n",
       "      <td>1591751105</td>\n",
       "    </tr>\n",
       "    <tr>\n",
       "      <td>562</td>\n",
       "      <td>ames</td>\n",
       "      <td>US</td>\n",
       "      <td>42.03</td>\n",
       "      <td>-93.62</td>\n",
       "      <td>75.20</td>\n",
       "      <td>78</td>\n",
       "      <td>75</td>\n",
       "      <td>9.17</td>\n",
       "      <td>1591750912</td>\n",
       "    </tr>\n",
       "    <tr>\n",
       "      <td>563</td>\n",
       "      <td>manicore</td>\n",
       "      <td>BR</td>\n",
       "      <td>-5.81</td>\n",
       "      <td>-61.30</td>\n",
       "      <td>78.80</td>\n",
       "      <td>94</td>\n",
       "      <td>15</td>\n",
       "      <td>1.23</td>\n",
       "      <td>1591751106</td>\n",
       "    </tr>\n",
       "  </tbody>\n",
       "</table>\n",
       "<p>564 rows × 9 columns</p>\n",
       "</div>"
      ],
      "text/plain": [
       "                           City Country    Lat     Lng  Max Temperature (F)  \\\n",
       "0                         pilar      BR  -9.60  -35.96                75.20   \n",
       "1                         kapaa      US  22.08 -159.32                84.20   \n",
       "2                 mount gambier      AU -37.83  140.77                44.60   \n",
       "3                 san cristobal      VE   7.77  -72.22                86.00   \n",
       "4                    kaitangata      NZ -46.28  169.85                55.51   \n",
       "..                          ...     ...    ...     ...                  ...   \n",
       "559                  tarko-sale      RU  64.92   77.78                63.00   \n",
       "560                 panama city      PA   8.99  -79.52                78.80   \n",
       "561  san ramon de la nueva oran      AR -23.13  -64.33                63.12   \n",
       "562                        ames      US  42.03  -93.62                75.20   \n",
       "563                    manicore      BR  -5.81  -61.30                78.80   \n",
       "\n",
       "     Humidity (%)  Cloudiness (%)  Wind Speed (mph)    Date(dt)  \n",
       "0              88              75              1.12  1591750991  \n",
       "1              70              40             16.11  1591750991  \n",
       "2              87               0              8.05  1591750991  \n",
       "3              48              75             21.92  1591750992  \n",
       "4              58              15             12.06  1591750992  \n",
       "..            ...             ...               ...         ...  \n",
       "559            78             100              7.18  1591751105  \n",
       "560            88              75              3.36  1591750935  \n",
       "561            86             100              1.59  1591751105  \n",
       "562            78              75              9.17  1591750912  \n",
       "563            94              15              1.23  1591751106  \n",
       "\n",
       "[564 rows x 9 columns]"
      ]
     },
     "execution_count": 11,
     "metadata": {},
     "output_type": "execute_result"
    }
   ],
   "source": [
    "# Make a new DataFrame equal to the city data to drop all humidity outliers by index.\n",
    "# Passing \"inplace=False\" will make a copy of the city_data DataFrame, which we call \"clean_city_data\".\n",
    "\n",
    "clean_city_data_df = main_df[main_df['Humidity (%)'] <= 100] \n",
    "clean_city_data_df\n"
   ]
  },
  {
   "cell_type": "markdown",
   "metadata": {},
   "source": [
    "## Plotting the Data\n",
    "* Use proper labeling of the plots using plot titles (including date of analysis) and axes labels.\n",
    "* Save the plotted figures as .pngs."
   ]
  },
  {
   "cell_type": "markdown",
   "metadata": {},
   "source": [
    "## Latitude vs. Temperature Plot"
   ]
  },
  {
   "cell_type": "code",
   "execution_count": 12,
   "metadata": {
    "scrolled": true
   },
   "outputs": [
    {
     "data": {
      "image/png": "[encoded data removed]",
      "text/plain": [
       "<Figure size 432x288 with 1 Axes>"
      ]
     },
     "metadata": {
      "needs_background": "light"
     },
     "output_type": "display_data"
    }
   ],
   "source": [
    "# Plot latitude versus temperature\n",
    "x_values = main_df[\"Lat\"]\n",
    "y_values = main_df['Max Temperature (F)']\n",
    "plt.scatter(x_values,y_values)\n",
    "plt.title(\"City Latitude vs. Max Temperature(F) 06/01/20\")\n",
    "plt.xlabel('Latitude')\n",
    "plt.ylabel('Max Temperature (F)')\n",
    "plt.savefig(\"../Python_API/output_data/City Latitude vs. Max Temperature(F).png\")\n",
    "plt.show()\n"
   ]
  },
  {
   "cell_type": "markdown",
   "metadata": {},
   "source": [
    "## Latitude vs. Humidity Plot"
   ]
  },
  {
   "cell_type": "code",
   "execution_count": 13,
   "metadata": {},
   "outputs": [
    {
     "data": {
      "image/png": "[encoded data removed]",
      "text/plain": [
       "<Figure size 432x288 with 1 Axes>"
      ]
     },
     "metadata": {
      "needs_background": "light"
     },
     "output_type": "display_data"
    }
   ],
   "source": [
    "# Plot latitude versus humidity \n",
    "x_values = main_df[\"Lat\"]\n",
    "y_values = main_df['Humidity (%)']\n",
    "plt.scatter(x_values,y_values)\n",
    "plt.title(\"City Latitude vs. Humidity (%) 06/01/20\")\n",
    "plt.xlabel('Latitude')\n",
    "plt.ylabel('Humidity (%)')\n",
    "\n",
    "plt.savefig(\"../Python_API/output_data/City Latitude vs. Humidity (%).png\")\n",
    "plt.show()"
   ]
  },
  {
   "cell_type": "markdown",
   "metadata": {},
   "source": [
    "## Latitude vs. Cloudiness Plot"
   ]
  },
  {
   "cell_type": "code",
   "execution_count": 14,
   "metadata": {},
   "outputs": [
    {
     "data": {
      "image/png": "[encoded data removed]",
      "text/plain": [
       "<Figure size 432x288 with 1 Axes>"
      ]
     },
     "metadata": {
      "needs_background": "light"
     },
     "output_type": "display_data"
    }
   ],
   "source": [
    "# Plot latitude versus cloudiness\n",
    "x_values = main_df[\"Lat\"]\n",
    "y_values = main_df['Cloudiness (%)']\n",
    "plt.scatter(x_values,y_values)\n",
    "plt.title(\"City Latitude vs. Cloudiness (%) 06/01/20\")\n",
    "plt.xlabel('Latitude')\n",
    "plt.ylabel('Cloudiness (%)')\n",
    "\n",
    "plt.savefig(\"../Python_API/output_data/City Latitude vs. Cloudiness (%).png\")\n",
    "plt.show()"
   ]
  },
  {
   "cell_type": "markdown",
   "metadata": {},
   "source": [
    "## Latitude vs. Wind Speed Plot"
   ]
  },
  {
   "cell_type": "code",
   "execution_count": 15,
   "metadata": {},
   "outputs": [
    {
     "data": {
      "image/png": "[encoded data removed]",
      "text/plain": [
       "<Figure size 432x288 with 1 Axes>"
      ]
     },
     "metadata": {
      "needs_background": "light"
     },
     "output_type": "display_data"
    }
   ],
   "source": [
    "# Plot latitude versus wind speed plot\n",
    "x_values = main_df[\"Lat\"]\n",
    "y_values = main_df['Wind Speed (mph)']\n",
    "plt.scatter(x_values,y_values)\n",
    "plt.title(\"City Latitude vs. Wind Speed (mph) 06/01/20\")\n",
    "plt.xlabel('Latitude')\n",
    "plt.ylabel('Wind Speed (mph)')\n",
    "\n",
    "plt.savefig(\"../Python_API/output_data/City Latitude vs. Wind Speed (mph).png\")\n",
    "plt.show()"
   ]
  },
  {
   "cell_type": "markdown",
   "metadata": {},
   "source": [
    "## Linear Regression"
   ]
  },
  {
   "cell_type": "code",
   "execution_count": 16,
   "metadata": {},
   "outputs": [],
   "source": [
    "# Create a function to create Linear Regression plots\n",
    "\n",
    "def linearplot(x_values,y_values,y_label, coor):\n",
    "    \n",
    "\n",
    "    print(f\"The r-squared is: {round(st.pearsonr(x_values, y_values)[0],2)}\")\n",
    "    \n",
    "    (slope, intercept, rvalue, pvalue, stderr) = linregress(x_values, y_values)\n",
    "    regress_values = x_values * slope + intercept\n",
    "    line_eq = \"y = \" + str(round(slope,2)) + \"x + \" + str(round(intercept,2))\n",
    "    plt.scatter(x_values,y_values)\n",
    "    plt.plot(x_values,regress_values,\"r-\")\n",
    "    plt.annotate(line_eq,coor,fontsize=15,color=\"red\")\n",
    " \n",
    "    plt.xlabel('Latitude')\n",
    "    plt.ylabel(y_label)\n",
    "    \n",
    "   \n",
    " \n"
   ]
  },
  {
   "cell_type": "code",
   "execution_count": 17,
   "metadata": {},
   "outputs": [
    {
     "data": {
      "text/html": [
       "<div>\n",
       "<style scoped>\n",
       "    .dataframe tbody tr th:only-of-type {\n",
       "        vertical-align: middle;\n",
       "    }\n",
       "\n",
       "    .dataframe tbody tr th {\n",
       "        vertical-align: top;\n",
       "    }\n",
       "\n",
       "    .dataframe thead th {\n",
       "        text-align: right;\n",
       "    }\n",
       "</style>\n",
       "<table border=\"1\" class=\"dataframe\">\n",
       "  <thead>\n",
       "    <tr style=\"text-align: right;\">\n",
       "      <th></th>\n",
       "      <th>City</th>\n",
       "      <th>Country</th>\n",
       "      <th>Lat</th>\n",
       "      <th>Lng</th>\n",
       "      <th>Max Temperature (F)</th>\n",
       "      <th>Humidity (%)</th>\n",
       "      <th>Cloudiness (%)</th>\n",
       "      <th>Wind Speed (mph)</th>\n",
       "      <th>Date(dt)</th>\n",
       "    </tr>\n",
       "  </thead>\n",
       "  <tbody>\n",
       "    <tr>\n",
       "      <td>1</td>\n",
       "      <td>kapaa</td>\n",
       "      <td>US</td>\n",
       "      <td>22.08</td>\n",
       "      <td>-159.32</td>\n",
       "      <td>84.20</td>\n",
       "      <td>70</td>\n",
       "      <td>40</td>\n",
       "      <td>16.11</td>\n",
       "      <td>1591750991</td>\n",
       "    </tr>\n",
       "    <tr>\n",
       "      <td>3</td>\n",
       "      <td>san cristobal</td>\n",
       "      <td>VE</td>\n",
       "      <td>7.77</td>\n",
       "      <td>-72.22</td>\n",
       "      <td>86.00</td>\n",
       "      <td>48</td>\n",
       "      <td>75</td>\n",
       "      <td>21.92</td>\n",
       "      <td>1591750992</td>\n",
       "    </tr>\n",
       "    <tr>\n",
       "      <td>7</td>\n",
       "      <td>tezpur</td>\n",
       "      <td>IN</td>\n",
       "      <td>26.63</td>\n",
       "      <td>92.80</td>\n",
       "      <td>83.01</td>\n",
       "      <td>76</td>\n",
       "      <td>0</td>\n",
       "      <td>2.26</td>\n",
       "      <td>1591750695</td>\n",
       "    </tr>\n",
       "    <tr>\n",
       "      <td>8</td>\n",
       "      <td>balaipungut</td>\n",
       "      <td>ID</td>\n",
       "      <td>1.05</td>\n",
       "      <td>101.28</td>\n",
       "      <td>81.07</td>\n",
       "      <td>81</td>\n",
       "      <td>73</td>\n",
       "      <td>3.94</td>\n",
       "      <td>1591750993</td>\n",
       "    </tr>\n",
       "    <tr>\n",
       "      <td>9</td>\n",
       "      <td>del rio</td>\n",
       "      <td>US</td>\n",
       "      <td>29.36</td>\n",
       "      <td>-100.90</td>\n",
       "      <td>102.20</td>\n",
       "      <td>13</td>\n",
       "      <td>1</td>\n",
       "      <td>10.29</td>\n",
       "      <td>1591750867</td>\n",
       "    </tr>\n",
       "  </tbody>\n",
       "</table>\n",
       "</div>"
      ],
      "text/plain": [
       "            City Country    Lat     Lng  Max Temperature (F)  Humidity (%)  \\\n",
       "1          kapaa      US  22.08 -159.32                84.20            70   \n",
       "3  san cristobal      VE   7.77  -72.22                86.00            48   \n",
       "7         tezpur      IN  26.63   92.80                83.01            76   \n",
       "8    balaipungut      ID   1.05  101.28                81.07            81   \n",
       "9        del rio      US  29.36 -100.90               102.20            13   \n",
       "\n",
       "   Cloudiness (%)  Wind Speed (mph)    Date(dt)  \n",
       "1              40             16.11  1591750991  \n",
       "3              75             21.92  1591750992  \n",
       "7               0              2.26  1591750695  \n",
       "8              73              3.94  1591750993  \n",
       "9               1             10.29  1591750867  "
      ]
     },
     "execution_count": 17,
     "metadata": {},
     "output_type": "execute_result"
    }
   ],
   "source": [
    "# Create Northern and Southern Hemisphere DataFrames\n",
    "n_df= main_df.loc[main_df[\"Lat\"]>= 0]\n",
    "\n",
    "s_df= main_df.loc[main_df[\"Lat\"]< 0]\n",
    "\n",
    "n_df.head()"
   ]
  },
  {
   "cell_type": "code",
   "execution_count": 18,
   "metadata": {},
   "outputs": [
    {
     "data": {
      "text/html": [
       "<div>\n",
       "<style scoped>\n",
       "    .dataframe tbody tr th:only-of-type {\n",
       "        vertical-align: middle;\n",
       "    }\n",
       "\n",
       "    .dataframe tbody tr th {\n",
       "        vertical-align: top;\n",
       "    }\n",
       "\n",
       "    .dataframe thead th {\n",
       "        text-align: right;\n",
       "    }\n",
       "</style>\n",
       "<table border=\"1\" class=\"dataframe\">\n",
       "  <thead>\n",
       "    <tr style=\"text-align: right;\">\n",
       "      <th></th>\n",
       "      <th>City</th>\n",
       "      <th>Country</th>\n",
       "      <th>Lat</th>\n",
       "      <th>Lng</th>\n",
       "      <th>Max Temperature (F)</th>\n",
       "      <th>Humidity (%)</th>\n",
       "      <th>Cloudiness (%)</th>\n",
       "      <th>Wind Speed (mph)</th>\n",
       "      <th>Date(dt)</th>\n",
       "    </tr>\n",
       "  </thead>\n",
       "  <tbody>\n",
       "    <tr>\n",
       "      <td>0</td>\n",
       "      <td>pilar</td>\n",
       "      <td>BR</td>\n",
       "      <td>-9.60</td>\n",
       "      <td>-35.96</td>\n",
       "      <td>75.20</td>\n",
       "      <td>88</td>\n",
       "      <td>75</td>\n",
       "      <td>1.12</td>\n",
       "      <td>1591750991</td>\n",
       "    </tr>\n",
       "    <tr>\n",
       "      <td>2</td>\n",
       "      <td>mount gambier</td>\n",
       "      <td>AU</td>\n",
       "      <td>-37.83</td>\n",
       "      <td>140.77</td>\n",
       "      <td>44.60</td>\n",
       "      <td>87</td>\n",
       "      <td>0</td>\n",
       "      <td>8.05</td>\n",
       "      <td>1591750991</td>\n",
       "    </tr>\n",
       "    <tr>\n",
       "      <td>4</td>\n",
       "      <td>kaitangata</td>\n",
       "      <td>NZ</td>\n",
       "      <td>-46.28</td>\n",
       "      <td>169.85</td>\n",
       "      <td>55.51</td>\n",
       "      <td>58</td>\n",
       "      <td>15</td>\n",
       "      <td>12.06</td>\n",
       "      <td>1591750992</td>\n",
       "    </tr>\n",
       "    <tr>\n",
       "      <td>5</td>\n",
       "      <td>punta arenas</td>\n",
       "      <td>CL</td>\n",
       "      <td>-53.15</td>\n",
       "      <td>-70.92</td>\n",
       "      <td>35.60</td>\n",
       "      <td>80</td>\n",
       "      <td>42</td>\n",
       "      <td>2.24</td>\n",
       "      <td>1591750992</td>\n",
       "    </tr>\n",
       "    <tr>\n",
       "      <td>6</td>\n",
       "      <td>ushuaia</td>\n",
       "      <td>AR</td>\n",
       "      <td>-54.80</td>\n",
       "      <td>-68.30</td>\n",
       "      <td>35.60</td>\n",
       "      <td>80</td>\n",
       "      <td>40</td>\n",
       "      <td>5.82</td>\n",
       "      <td>1591750815</td>\n",
       "    </tr>\n",
       "  </tbody>\n",
       "</table>\n",
       "</div>"
      ],
      "text/plain": [
       "            City Country    Lat     Lng  Max Temperature (F)  Humidity (%)  \\\n",
       "0          pilar      BR  -9.60  -35.96                75.20            88   \n",
       "2  mount gambier      AU -37.83  140.77                44.60            87   \n",
       "4     kaitangata      NZ -46.28  169.85                55.51            58   \n",
       "5   punta arenas      CL -53.15  -70.92                35.60            80   \n",
       "6        ushuaia      AR -54.80  -68.30                35.60            80   \n",
       "\n",
       "   Cloudiness (%)  Wind Speed (mph)    Date(dt)  \n",
       "0              75              1.12  1591750991  \n",
       "2               0              8.05  1591750991  \n",
       "4              15             12.06  1591750992  \n",
       "5              42              2.24  1591750992  \n",
       "6              40              5.82  1591750815  "
      ]
     },
     "execution_count": 18,
     "metadata": {},
     "output_type": "execute_result"
    }
   ],
   "source": [
    "s_df.head()"
   ]
  },
  {
   "cell_type": "markdown",
   "metadata": {},
   "source": [
    "####  Northern Hemisphere - Max Temp vs. Latitude Linear Regression"
   ]
  },
  {
   "cell_type": "code",
   "execution_count": 19,
   "metadata": {},
   "outputs": [
    {
     "name": "stdout",
     "output_type": "stream",
     "text": [
      "The r-squared is: -0.77\n"
     ]
    },
    {
     "data": {
      "image/png": "[encoded data removed]",
      "text/plain": [
       "<Figure size 432x288 with 1 Axes>"
      ]
     },
     "metadata": {
      "needs_background": "light"
     },
     "output_type": "display_data"
    }
   ],
   "source": [
    "x_values= n_df[\"Lat\"]\n",
    "y_values= n_df[\"Max Temperature (F)\"]\n",
    "linearplot(x_values, y_values, \"Max Temperature (F)\", (6,30))\n",
    "\n",
    "\n",
    "plt.savefig(\"../Python_API/output_data/Northern_City Lat vs. Max_Temp(F).png\")\n",
    "plt.show()"
   ]
  },
  {
   "cell_type": "markdown",
   "metadata": {},
   "source": [
    "####  Southern Hemisphere - Max Temp vs. Latitude Linear Regression"
   ]
  },
  {
   "cell_type": "code",
   "execution_count": 20,
   "metadata": {},
   "outputs": [
    {
     "name": "stdout",
     "output_type": "stream",
     "text": [
      "The r-squared is: 0.78\n"
     ]
    },
    {
     "data": {
      "image/png": "[encoded data removed]",
      "text/plain": [
       "<Figure size 432x288 with 1 Axes>"
      ]
     },
     "metadata": {
      "needs_background": "light"
     },
     "output_type": "display_data"
    }
   ],
   "source": [
    "x_values= s_df[\"Lat\"]\n",
    "y_values= s_df[\"Max Temperature (F)\"]\n",
    "linearplot(x_values, y_values, \"Max Temperature (F)\", (-30,30))\n",
    "plt.savefig(\"../Python_API/output_data/Southern_City Lat vs. Max_Temp(F).png\")\n",
    "plt.show()"
   ]
  },
  {
   "cell_type": "markdown",
   "metadata": {},
   "source": [
    "####  Northern Hemisphere - Humidity (%) vs. Latitude Linear Regression"
   ]
  },
  {
   "cell_type": "code",
   "execution_count": 21,
   "metadata": {},
   "outputs": [
    {
     "name": "stdout",
     "output_type": "stream",
     "text": [
      "The r-squared is: -0.05\n"
     ]
    },
    {
     "data": {
      "image/png": "[encoded data removed]",
      "text/plain": [
       "<Figure size 432x288 with 1 Axes>"
      ]
     },
     "metadata": {
      "needs_background": "light"
     },
     "output_type": "display_data"
    }
   ],
   "source": [
    "x_values= n_df[\"Lat\"]\n",
    "y_values= n_df[\"Humidity (%)\"]\n",
    "linearplot(x_values, y_values, \"Humidity (%)\", (40,20))\n",
    "plt.savefig(\"../Python_API/output_data/Northern_City Lat vs. Humidity(%).png\")\n",
    "plt.show()"
   ]
  },
  {
   "cell_type": "markdown",
   "metadata": {},
   "source": [
    "####  Southern Hemisphere - Humidity (%) vs. Latitude Linear Regression"
   ]
  },
  {
   "cell_type": "code",
   "execution_count": 22,
   "metadata": {},
   "outputs": [
    {
     "name": "stdout",
     "output_type": "stream",
     "text": [
      "The r-squared is: 0.27\n"
     ]
    },
    {
     "data": {
      "image/png": "[encoded data removed]",
      "text/plain": [
       "<Figure size 432x288 with 1 Axes>"
      ]
     },
     "metadata": {
      "needs_background": "light"
     },
     "output_type": "display_data"
    }
   ],
   "source": [
    "x_values= s_df[\"Lat\"]\n",
    "y_values= s_df[\"Humidity (%)\"]\n",
    "linearplot(x_values, y_values, \"Humidity (%)\", (-50,20))\n",
    "plt.savefig(\"../Python_API/output_data/Southern_City Lat vs. Humidity(%).png\")\n",
    "plt.show()"
   ]
  },
  {
   "cell_type": "markdown",
   "metadata": {},
   "source": [
    "####  Northern Hemisphere - Cloudiness (%) vs. Latitude Linear Regression"
   ]
  },
  {
   "cell_type": "code",
   "execution_count": 23,
   "metadata": {},
   "outputs": [
    {
     "name": "stdout",
     "output_type": "stream",
     "text": [
      "The r-squared is: 0.14\n"
     ]
    },
    {
     "data": {
      "image/png": "[encoded data removed]",
      "text/plain": [
       "<Figure size 432x288 with 1 Axes>"
      ]
     },
     "metadata": {
      "needs_background": "light"
     },
     "output_type": "display_data"
    }
   ],
   "source": [
    "x_values= n_df[\"Lat\"]\n",
    "y_values= n_df[\"Cloudiness (%)\"]\n",
    "linearplot(x_values, y_values, \"Cloudiness (%)\", (10,20))\n",
    "plt.savefig(\"../Python_API/output_data/Northern_City Lat vs. Cloudiness (mph).png\")\n",
    "plt.show()"
   ]
  },
  {
   "cell_type": "markdown",
   "metadata": {},
   "source": [
    "####  Southern Hemisphere - Cloudiness (%) vs. Latitude Linear Regression"
   ]
  },
  {
   "cell_type": "code",
   "execution_count": 24,
   "metadata": {},
   "outputs": [
    {
     "name": "stdout",
     "output_type": "stream",
     "text": [
      "The r-squared is: 0.15\n"
     ]
    },
    {
     "data": {
      "image/png": "[encoded data removed]",
      "text/plain": [
       "<Figure size 432x288 with 1 Axes>"
      ]
     },
     "metadata": {
      "needs_background": "light"
     },
     "output_type": "display_data"
    }
   ],
   "source": [
    "x_values=s_df[\"Lat\"]\n",
    "y_values= s_df[\"Cloudiness (%)\"]\n",
    "linearplot(x_values, y_values, \"Cloudiness (%)\", (-50,20))\n",
    "plt.savefig(\"../Python_API/output_data/Southern_City Lat vs. Cloudiness (mph).png\")\n",
    "plt.show()"
   ]
  },
  {
   "cell_type": "markdown",
   "metadata": {},
   "source": [
    "####  Northern Hemisphere - Wind Speed (mph) vs. Latitude Linear Regression"
   ]
  },
  {
   "cell_type": "code",
   "execution_count": 25,
   "metadata": {},
   "outputs": [
    {
     "name": "stdout",
     "output_type": "stream",
     "text": [
      "The r-squared is: 0.03\n"
     ]
    },
    {
     "data": {
      "image/png": "[encoded data removed]",
      "text/plain": [
       "<Figure size 432x288 with 1 Axes>"
      ]
     },
     "metadata": {
      "needs_background": "light"
     },
     "output_type": "display_data"
    }
   ],
   "source": [
    "x_values= n_df[\"Lat\"]\n",
    "y_values= n_df[\"Wind Speed (mph)\"]\n",
    "linearplot(x_values, y_values, \"Wind Speed (mph)\", (10,25))\n",
    "plt.savefig(\"../Python_API/output_data/Northern_City Lat vs. Wind Speed (mph).png\")\n",
    "plt.show()"
   ]
  },
  {
   "cell_type": "markdown",
   "metadata": {},
   "source": [
    "####  Southern Hemisphere - Wind Speed (mph) vs. Latitude Linear Regression"
   ]
  },
  {
   "cell_type": "code",
   "execution_count": 26,
   "metadata": {},
   "outputs": [
    {
     "name": "stdout",
     "output_type": "stream",
     "text": [
      "The r-squared is: -0.28\n"
     ]
    },
    {
     "data": {
      "image/png": "[encoded data removed]",
      "text/plain": [
       "<Figure size 432x288 with 1 Axes>"
      ]
     },
     "metadata": {
      "needs_background": "light"
     },
     "output_type": "display_data"
    }
   ],
   "source": [
    "x_values= s_df[\"Lat\"]\n",
    "y_values= s_df[\"Wind Speed (mph)\"]\n",
    "linearplot(x_values, y_values, \"Wind Speed (mph)\", (-50,15))\n",
    "plt.savefig(\"../Python_API/output_data/Southern_City Lat vs. Wind Speed (mph).png\")\n",
    "plt.show()"
   ]
  }
 ],
 "metadata": {
  "anaconda-cloud": {},
  "kernel_info": {
   "name": "python3"
  },
  "kernelspec": {
   "display_name": "Python 3",
   "language": "python",
   "name": "python3"
  },
  "language_info": {
   "codemirror_mode": {
    "name": "ipython",
    "version": 3
   },
   "file_extension": ".py",
   "mimetype": "text/x-python",
   "name": "python",
   "nbconvert_exporter": "python",
   "pygments_lexer": "ipython3",
   "version": "3.7.4"
  },
  "latex_envs": {
   "LaTeX_envs_menu_present": true,
   "autoclose": false,
   "autocomplete": true,
   "bibliofile": "biblio.bib",
   "cite_by": "apalike",
   "current_citInitial": 1,
   "eqLabelWithNumbers": true,
   "eqNumInitial": 1,
   "hotkeys": {
    "equation": "Ctrl-E",
    "itemize": "Ctrl-I"
   },
   "labels_anchors": false,
   "latex_user_defs": false,
   "report_style_numbering": false,
   "user_envs_cfg": false
  },
  "nteract": {
   "version": "0.12.3"
  }
 },
 "nbformat": 4,
 "nbformat_minor": 2
}
