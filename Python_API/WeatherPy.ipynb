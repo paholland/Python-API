{
 "cells": [
  {
   "cell_type": "markdown",
   "metadata": {},
   "source": [
    "# WeatherPy\n"
   ]
  },
  {
   "cell_type": "markdown",
   "metadata": {},
   "source": [
    "## Analysis:\n",
    "    \n",
    "#### As the latitude incredses or decreases, temperature decreases (City Latitude vs. Max Temperatute plot)   \n",
    "#### There is a strong negative correlatiion between latutude and Max Temperature for Northern Hemisphere (The r-value is: -0.81)    \n",
    "#### Cloudiness and the wind speed are spread across the latitude (City Latitude vs. Cloudiness and City Latitude vs. Wind Speed plot)  \n",
    " "
   ]
  },
  {
   "cell_type": "code",
   "execution_count": 1,
   "metadata": {
    "scrolled": true
   },
   "outputs": [],
   "source": [
    "# Dependencies and Setup\n",
    "import matplotlib.pyplot as plt\n",
    "import pandas as pd\n",
    "import numpy as np\n",
    "import requests\n",
    "import time\n",
    "from scipy.stats import linregress\n",
    "import scipy.stats as st\n",
    "import json \n",
    "%matplotlib inline\n",
    "\n",
    "# Import API key\n",
    "from api_keys import weather_api_key\n",
    "\n",
    "# Incorporated citipy to determine city based on latitude and longitude\n",
    "from citipy import citipy\n",
    "\n",
    "# Output File (CSV)\n",
    "output_data_file = \"output_data/cities.csv\"\n",
    "\n",
    "# Range of latitudes and longitudes\n",
    "lat_range = (-90, 90)\n",
    "lng_range = (-180, 180)"
   ]
  },
  {
   "cell_type": "markdown",
   "metadata": {},
   "source": [
    "## Generate Cities List"
   ]
  },
  {
   "cell_type": "code",
   "execution_count": 2,
   "metadata": {},
   "outputs": [
    {
     "data": {
      "text/plain": [
       "['busselton', 'mataura', 'shimoda', 'vaini', 'todos santos']"
      ]
     },
     "execution_count": 2,
     "metadata": {},
     "output_type": "execute_result"
    }
   ],
   "source": [
    "# List for holding lat_lngs and cities\n",
    "lat_lngs = []\n",
    "cities = []\n",
    "\n",
    "# Create a set of random lat and lng combinations\n",
    "lats = np.random.uniform(lat_range[0], lat_range[1], size=1500)\n",
    "lngs = np.random.uniform(lng_range[0], lng_range[1], size=1500)\n",
    "lat_lngs = zip(lats, lngs)\n",
    "\n",
    "# Identify nearest city for each lat, lng combination\n",
    "for lat_lng in lat_lngs:\n",
    "    city = citipy.nearest_city(lat_lng[0], lat_lng[1]).city_name\n",
    "    \n",
    "    # If the city is unique, then add it to a our cities list\n",
    "    if city not in cities:\n",
    "        cities.append(city)\n",
    "\n",
    "# Print the city count to confirm sufficient count\n",
    "len(cities)\n",
    "\n",
    "cities[:5]"
   ]
  },
  {
   "cell_type": "markdown",
   "metadata": {},
   "source": [
    "### Perform API Calls\n",
    "* Perform a weather check on each city using a series of successive API calls.\n",
    "* Include a print log of each city as it's being processed (with the city number and city name).\n"
   ]
  },
  {
   "cell_type": "code",
   "execution_count": 3,
   "metadata": {},
   "outputs": [
    {
     "name": "stdout",
     "output_type": "stream",
     "text": [
      "{\n",
      "    \"base\": \"stations\",\n",
      "    \"clouds\": {\n",
      "        \"all\": 75\n",
      "    },\n",
      "    \"cod\": 200,\n",
      "    \"coord\": {\n",
      "        \"lat\": 22.08,\n",
      "        \"lon\": -159.32\n",
      "    },\n",
      "    \"dt\": 1592248783,\n",
      "    \"id\": 5848280,\n",
      "    \"main\": {\n",
      "        \"feels_like\": 79.43,\n",
      "        \"humidity\": 69,\n",
      "        \"pressure\": 1020,\n",
      "        \"temp\": 79.68,\n",
      "        \"temp_max\": 80.6,\n",
      "        \"temp_min\": 79\n",
      "    },\n",
      "    \"name\": \"Kapaa\",\n",
      "    \"sys\": {\n",
      "        \"country\": \"US\",\n",
      "        \"id\": 7873,\n",
      "        \"sunrise\": 1592236420,\n",
      "        \"sunset\": 1592284937,\n",
      "        \"type\": 1\n",
      "    },\n",
      "    \"timezone\": -36000,\n",
      "    \"visibility\": 16093,\n",
      "    \"weather\": [\n",
      "        {\n",
      "            \"description\": \"broken clouds\",\n",
      "            \"icon\": \"04d\",\n",
      "            \"id\": 803,\n",
      "            \"main\": \"Clouds\"\n",
      "        }\n",
      "    ],\n",
      "    \"wind\": {\n",
      "        \"deg\": 60,\n",
      "        \"speed\": 12.75\n",
      "    }\n",
      "}\n"
     ]
    }
   ],
   "source": [
    "# Save config information\n",
    "url = \"http://api.openweathermap.org/data/2.5/weather?\"\n",
    "units =\"imperial\"\n",
    "city = \"kapaa\"\n",
    "\n",
    "# Build query URL\n",
    "query_url = url + \"appid=\" + weather_api_key + \"&units=\" + units + \"&q=\" + city\n",
    "\n",
    "# Get weather data\n",
    "weather_response = requests.get(query_url)\n",
    "weather_json = weather_response.json()\n",
    "\n",
    "# Get the temperature from the response\n",
    "#print(f\"The weather API responded with: {weather_json}.\")\n",
    "\n",
    "print(json.dumps(weather_json, indent=4, sort_keys=True))\n",
    "\n",
    "        "
   ]
  },
  {
   "cell_type": "code",
   "execution_count": 4,
   "metadata": {},
   "outputs": [
    {
     "name": "stdout",
     "output_type": "stream",
     "text": [
      "Beginning Data Retrieval\n",
      "-----------------------------\n",
      "Processing Record 1 | busselton\n",
      "Processing Record 2 | mataura\n",
      "Processing Record 3 | shimoda\n",
      "Processing Record 4 | vaini\n",
      "Processing Record 5 | todos santos\n",
      "Processing Record 6 | punta arenas\n",
      "City is not found.\n",
      "Processing Record 7 | albany\n",
      "Processing Record 8 | tamandare\n",
      "Processing Record 9 | anadyr\n",
      "Processing Record 10 | lagoa\n",
      "Processing Record 11 | stillwater\n",
      "Processing Record 12 | rikitea\n",
      "Processing Record 13 | lompoc\n",
      "Processing Record 14 | kavieng\n",
      "Processing Record 15 | qaanaaq\n",
      "City is not found.\n",
      "Processing Record 16 | hermanus\n",
      "Processing Record 17 | ushuaia\n",
      "Processing Record 18 | hithadhoo\n",
      "Processing Record 19 | yellowknife\n",
      "Processing Record 20 | barrow\n",
      "Processing Record 21 | butaritari\n",
      "Processing Record 22 | bengkulu\n",
      "Processing Record 23 | sobolevo\n",
      "Processing Record 24 | berezovyy\n",
      "Processing Record 25 | san quintin\n",
      "Processing Record 26 | saldanha\n",
      "Processing Record 27 | sitio novo do tocantins\n",
      "Processing Record 28 | port elizabeth\n",
      "Processing Record 29 | saskylakh\n",
      "City is not found.\n",
      "Processing Record 30 | narsaq\n",
      "Processing Record 31 | taoudenni\n",
      "Processing Record 32 | castro\n",
      "City is not found.\n",
      "Processing Record 33 | gazanjyk\n",
      "Processing Record 34 | luderitz\n",
      "Processing Record 35 | gambo\n",
      "Processing Record 36 | khatanga\n",
      "Processing Record 37 | bluff\n",
      "Processing Record 38 | sabang\n",
      "Processing Record 39 | nanakuli\n",
      "Processing Record 40 | bredasdorp\n",
      "Processing Record 41 | puerto ayora\n",
      "Processing Record 42 | avarua\n",
      "Processing Record 43 | chokurdakh\n",
      "Processing Record 44 | new norfolk\n",
      "Processing Record 45 | hovd\n",
      "City is not found.\n",
      "Processing Record 46 | diebougou\n",
      "Processing Record 47 | jalu\n",
      "Processing Record 48 | san buenaventura\n",
      "Processing Record 49 | lexington\n",
      "Processing Record 50 | doha\n",
      "Processing Record 51 | ola\n",
      "Processing Record 52 | saint george\n",
      "Processing Record 53 | mar del plata\n",
      "Processing Record 54 | leningradskiy\n",
      "Processing Record 55 | biloela\n",
      "Processing Record 56 | praia da vitoria\n",
      "Processing Record 57 | waddan\n",
      "Processing Record 58 | istok\n",
      "Processing Record 59 | cherskiy\n",
      "City is not found.\n",
      "City is not found.\n",
      "City is not found.\n",
      "Processing Record 60 | sechura\n",
      "Processing Record 61 | hasaki\n",
      "Processing Record 62 | lubben\n",
      "City is not found.\n",
      "Processing Record 63 | terrace bay\n",
      "Processing Record 64 | raudeberg\n",
      "Processing Record 65 | paragominas\n",
      "City is not found.\n",
      "Processing Record 66 | hamilton\n",
      "City is not found.\n",
      "Processing Record 67 | kayerkan\n",
      "Processing Record 68 | tezu\n",
      "City is not found.\n",
      "Processing Record 69 | georgetown\n",
      "Processing Record 70 | harper\n",
      "City is not found.\n",
      "Processing Record 71 | kabo\n",
      "Processing Record 72 | tuktoyaktuk\n",
      "Processing Record 73 | mitsamiouli\n",
      "Processing Record 74 | ridgecrest\n",
      "Processing Record 75 | arraial do cabo\n",
      "Processing Record 76 | airai\n",
      "Processing Record 77 | sri aman\n",
      "Processing Record 78 | goderich\n",
      "Processing Record 79 | olinda\n",
      "Processing Record 80 | manakara\n",
      "Processing Record 81 | cape town\n",
      "Processing Record 82 | jamestown\n",
      "Processing Record 83 | carnarvon\n",
      "City is not found.\n",
      "Processing Record 84 | port-gentil\n",
      "Processing Record 85 | waipawa\n",
      "Processing Record 86 | rundu\n",
      "Processing Record 87 | geraldton\n",
      "Processing Record 88 | chuy\n",
      "Processing Record 89 | port alfred\n",
      "Processing Record 90 | kalmunai\n",
      "Processing Record 91 | norman wells\n",
      "Processing Record 92 | buenos aires\n",
      "Processing Record 93 | bella union\n",
      "Processing Record 94 | mahebourg\n",
      "Processing Record 95 | alta floresta\n",
      "Processing Record 96 | te anau\n",
      "Processing Record 97 | boa vista\n",
      "Processing Record 98 | kapaa\n",
      "Processing Record 99 | victoria\n",
      "Processing Record 100 | torbay\n",
      "Processing Record 101 | deniliquin\n",
      "Processing Record 102 | bogandinskiy\n",
      "Processing Record 103 | nanortalik\n",
      "City is not found.\n",
      "Processing Record 104 | izberbash\n",
      "Processing Record 105 | berlevag\n",
      "Processing Record 106 | upernavik\n",
      "Processing Record 107 | krutikha\n",
      "Processing Record 108 | itarema\n",
      "Processing Record 109 | contamana\n",
      "Processing Record 110 | port hardy\n",
      "City is not found.\n",
      "Processing Record 111 | shelburne\n",
      "City is not found.\n",
      "Processing Record 112 | lorengau\n",
      "Processing Record 113 | bocana de paiwas\n",
      "Processing Record 114 | ushtobe\n",
      "Processing Record 115 | pevek\n",
      "Processing Record 116 | barranca\n",
      "Processing Record 117 | lebu\n",
      "Processing Record 118 | codrington\n",
      "City is not found.\n",
      "Processing Record 119 | dikson\n",
      "Processing Record 120 | bethel\n",
      "Processing Record 121 | kahului\n",
      "City is not found.\n",
      "City is not found.\n",
      "Processing Record 122 | la suiza\n",
      "Processing Record 123 | bambous virieux\n",
      "Processing Record 124 | severo-kurilsk\n",
      "Processing Record 125 | ancud\n",
      "Processing Record 126 | ambunti\n",
      "Processing Record 127 | clyde river\n",
      "Processing Record 128 | constantine\n",
      "Processing Record 129 | strezhevoy\n",
      "Processing Record 130 | tiksi\n",
      "Processing Record 131 | nargana\n",
      "Processing Record 132 | wad madani\n",
      "Processing Record 133 | laukaa\n",
      "Processing Record 134 | riverton\n",
      "Processing Record 135 | vila velha\n",
      "Processing Record 136 | atuona\n",
      "Processing Record 137 | san vicente\n",
      "City is not found.\n",
      "Processing Record 138 | asau\n",
      "Processing Record 139 | tasiilaq\n",
      "Processing Record 140 | yulara\n",
      "Processing Record 141 | provideniya\n",
      "Processing Record 142 | broome\n",
      "Processing Record 143 | oistins\n",
      "Processing Record 144 | navahrudak\n",
      "Processing Record 145 | touros\n",
      "Processing Record 146 | ponta do sol\n",
      "Processing Record 147 | diamantino\n",
      "Processing Record 148 | simao\n",
      "Processing Record 149 | ribeira grande\n",
      "Processing Record 150 | saint-philippe\n",
      "Processing Record 151 | sao joao da barra\n",
      "Processing Record 152 | padang\n",
      "City is not found.\n",
      "Processing Record 153 | muroto\n",
      "Processing Record 154 | faya\n",
      "Processing Record 155 | hami\n",
      "Processing Record 156 | mujiayingzi\n",
      "Processing Record 157 | kruisfontein\n",
      "Processing Record 158 | churachandpur\n",
      "Processing Record 159 | port blair\n",
      "Processing Record 160 | cidreira\n",
      "Processing Record 161 | oktyabrskiy\n",
      "Processing Record 162 | lata\n",
      "Processing Record 163 | port lincoln\n",
      "Processing Record 164 | menongue\n",
      "Processing Record 165 | nhulunbuy\n",
      "Processing Record 166 | mackay\n",
      "Processing Record 167 | bitkine\n",
      "Processing Record 168 | gamba\n",
      "City is not found.\n",
      "Processing Record 169 | velikovechnoye\n",
      "Processing Record 170 | pisco\n",
      "Processing Record 171 | coquimbo\n",
      "Processing Record 172 | ulaangom\n",
      "City is not found.\n",
      "City is not found.\n",
      "Processing Record 173 | santa maria\n",
      "Processing Record 174 | kailua\n",
      "Processing Record 175 | constitucion\n",
      "Processing Record 176 | kaitangata\n",
      "Processing Record 177 | cayenne\n",
      "Processing Record 178 | yamachiche\n",
      "Processing Record 179 | trujillo\n",
      "Processing Record 180 | sao filipe\n",
      "Processing Record 181 | port hedland\n",
      "Processing Record 182 | san patricio\n",
      "Processing Record 183 | east london\n",
      "Processing Record 184 | katsuura\n",
      "Processing Record 185 | kafanchan\n",
      "Processing Record 186 | namibe\n",
      "Processing Record 187 | vyartsilya\n",
      "Processing Record 188 | nirmali\n",
      "Processing Record 189 | yei\n",
      "Processing Record 190 | gushikawa\n",
      "Processing Record 191 | laguna\n",
      "Processing Record 192 | kodiak\n",
      "Processing Record 193 | rongcheng\n",
      "Processing Record 194 | grand gaube\n",
      "Processing Record 195 | egvekinot\n",
      "Processing Record 196 | naze\n",
      "Processing Record 197 | nikolskoye\n",
      "Processing Record 198 | mount gambier\n",
      "Processing Record 199 | bani\n",
      "Processing Record 200 | ponta delgada\n",
      "Processing Record 201 | frontera\n",
      "Processing Record 202 | hofn\n",
      "Processing Record 203 | sinnamary\n",
      "Processing Record 204 | mercedes\n",
      "Processing Record 205 | kulhudhuffushi\n",
      "Processing Record 206 | roebourne\n",
      "Processing Record 207 | stromness\n",
      "Processing Record 208 | le moule\n",
      "Processing Record 209 | okhotsk\n",
      "Processing Record 210 | ilulissat\n",
      "Processing Record 211 | alice springs\n",
      "Processing Record 212 | talcahuano\n",
      "Processing Record 213 | tazovskiy\n",
      "Processing Record 214 | adre\n",
      "Processing Record 215 | bethanien\n",
      "Processing Record 216 | rincon\n",
      "City is not found.\n",
      "Processing Record 217 | abha\n",
      "Processing Record 218 | esperance\n",
      "Processing Record 219 | jian\n",
      "Processing Record 220 | half moon bay\n",
      "Processing Record 221 | la ronge\n",
      "Processing Record 222 | atar\n",
      "Processing Record 223 | hilo\n",
      "Processing Record 224 | joensuu\n",
      "Processing Record 225 | lahij\n",
      "Processing Record 226 | macenta\n",
      "Processing Record 227 | salinas\n",
      "Processing Record 228 | vangaindrano\n",
      "Processing Record 229 | los llanos de aridane\n",
      "Processing Record 230 | sisimiut\n",
      "Processing Record 231 | pochutla\n",
      "Processing Record 232 | xunchang\n"
     ]
    },
    {
     "name": "stdout",
     "output_type": "stream",
     "text": [
      "Processing Record 233 | tornio\n",
      "Processing Record 234 | dingle\n",
      "Processing Record 235 | qalyub\n",
      "Processing Record 236 | beringovskiy\n",
      "Processing Record 237 | ketchikan\n",
      "Processing Record 238 | florianopolis\n",
      "Processing Record 239 | mount isa\n",
      "Processing Record 240 | vardo\n",
      "Processing Record 241 | souillac\n",
      "Processing Record 242 | rafsanjan\n",
      "Processing Record 243 | mokhsogollokh\n",
      "Processing Record 244 | richards bay\n",
      "Processing Record 245 | thompson\n",
      "Processing Record 246 | aden\n",
      "Processing Record 247 | aksarka\n",
      "Processing Record 248 | meulaboh\n",
      "Processing Record 249 | vasto\n",
      "Processing Record 250 | wewak\n",
      "City is not found.\n",
      "Processing Record 251 | muros\n",
      "Processing Record 252 | pacific grove\n",
      "Processing Record 253 | tura\n",
      "Processing Record 254 | mahajanga\n",
      "Processing Record 255 | hay river\n",
      "Processing Record 256 | rawson\n",
      "Processing Record 257 | dudinka\n",
      "Processing Record 258 | kasamwa\n",
      "Processing Record 259 | emba\n",
      "Processing Record 260 | jinchang\n",
      "Processing Record 261 | tshikapa\n",
      "Processing Record 262 | buluang\n",
      "Processing Record 263 | tanete\n",
      "Processing Record 264 | olafsvik\n",
      "City is not found.\n",
      "Processing Record 265 | isangel\n",
      "Processing Record 266 | guaruja\n",
      "Processing Record 267 | mattru\n",
      "Processing Record 268 | cockburn town\n",
      "Processing Record 269 | portland\n",
      "Processing Record 270 | paamiut\n",
      "City is not found.\n",
      "Processing Record 271 | beaverlodge\n",
      "Processing Record 272 | knysna\n",
      "Processing Record 273 | camacha\n",
      "Processing Record 274 | boffa\n",
      "Processing Record 275 | baracoa\n",
      "Processing Record 276 | grindavik\n",
      "Processing Record 277 | druzhba\n",
      "Processing Record 278 | shaunavon\n",
      "Processing Record 279 | galle\n",
      "Processing Record 280 | parvatsar\n",
      "Processing Record 281 | iqaluit\n",
      "City is not found.\n",
      "Processing Record 282 | nazas\n",
      "Processing Record 283 | westport\n",
      "Processing Record 284 | muli\n",
      "Processing Record 285 | bereda\n",
      "Processing Record 286 | floro\n",
      "Processing Record 287 | minab\n",
      "Processing Record 288 | longyearbyen\n",
      "Processing Record 289 | fortuna\n",
      "Processing Record 290 | bathsheba\n",
      "Processing Record 291 | chapais\n",
      "Processing Record 292 | prince rupert\n",
      "Processing Record 293 | nemuro\n",
      "Processing Record 294 | kongolo\n",
      "Processing Record 295 | korla\n",
      "Processing Record 296 | borgarnes\n",
      "Processing Record 297 | boguchany\n",
      "Processing Record 298 | cabo san lucas\n",
      "Processing Record 299 | kloulklubed\n",
      "Processing Record 300 | lavrentiya\n",
      "Processing Record 301 | macas\n",
      "Processing Record 302 | tougan\n",
      "Processing Record 303 | chicama\n",
      "Processing Record 304 | faanui\n",
      "Processing Record 305 | daphne\n",
      "Processing Record 306 | manuk mangkaw\n",
      "Processing Record 307 | bendigo\n",
      "Processing Record 308 | tsalka\n",
      "Processing Record 309 | caravelas\n",
      "Processing Record 310 | dromolaxia\n",
      "Processing Record 311 | bonavista\n",
      "Processing Record 312 | leh\n",
      "Processing Record 313 | hobart\n",
      "City is not found.\n",
      "Processing Record 314 | camana\n",
      "Processing Record 315 | zlocieniec\n",
      "Processing Record 316 | ostrovnoy\n",
      "Processing Record 317 | destin\n",
      "Processing Record 318 | husavik\n",
      "Processing Record 319 | pemangkat\n",
      "Processing Record 320 | byron bay\n",
      "Processing Record 321 | seoul\n",
      "Processing Record 322 | monrovia\n",
      "Processing Record 323 | ossora\n",
      "Processing Record 324 | bud\n",
      "Processing Record 325 | ahipara\n",
      "City is not found.\n",
      "Processing Record 326 | aykhal\n",
      "Processing Record 327 | hommelvik\n",
      "Processing Record 328 | belyy yar\n",
      "Processing Record 329 | gloversville\n",
      "Processing Record 330 | tuatapere\n",
      "Processing Record 331 | alberton\n",
      "City is not found.\n",
      "Processing Record 332 | carballo\n",
      "Processing Record 333 | grand-santi\n",
      "Processing Record 334 | neiafu\n",
      "Processing Record 335 | broken hill\n",
      "Processing Record 336 | ankazoabo\n",
      "Processing Record 337 | russell\n",
      "City is not found.\n",
      "Processing Record 338 | muzhi\n",
      "Processing Record 339 | khor\n",
      "Processing Record 340 | yerbogachen\n",
      "Processing Record 341 | januaria\n",
      "Processing Record 342 | mogzon\n",
      "Processing Record 343 | dali\n",
      "Processing Record 344 | marsabit\n",
      "Processing Record 345 | port shepstone\n",
      "Processing Record 346 | matara\n",
      "Processing Record 347 | ondjiva\n",
      "Processing Record 348 | angoche\n",
      "Processing Record 349 | vestmannaeyjar\n",
      "Processing Record 350 | rocky mountain house\n",
      "Processing Record 351 | goure\n",
      "Processing Record 352 | prabumulih\n",
      "Processing Record 353 | portree\n",
      "Processing Record 354 | marawi\n",
      "Processing Record 355 | dorobantu\n",
      "Processing Record 356 | sitka\n",
      "Processing Record 357 | jaguaruna\n",
      "Processing Record 358 | porto belo\n",
      "City is not found.\n",
      "Processing Record 359 | soyo\n",
      "Processing Record 360 | chase\n",
      "Processing Record 361 | necochea\n",
      "Processing Record 362 | nishihara\n",
      "Processing Record 363 | havre-saint-pierre\n",
      "Processing Record 364 | calama\n",
      "Processing Record 365 | vagay\n",
      "Processing Record 366 | lisakovsk\n",
      "Processing Record 367 | mandera\n",
      "Processing Record 368 | khomeyn\n",
      "Processing Record 369 | bandarbeyla\n",
      "Processing Record 370 | carlow\n",
      "Processing Record 371 | klaksvik\n",
      "Processing Record 372 | palmer\n",
      "Processing Record 373 | tiarei\n",
      "Processing Record 374 | katherine\n",
      "Processing Record 375 | sur\n",
      "Processing Record 376 | akdepe\n",
      "Processing Record 377 | saint-pierre\n",
      "Processing Record 378 | batemans bay\n",
      "Processing Record 379 | bonthe\n",
      "Processing Record 380 | okha\n",
      "Processing Record 381 | shalya\n",
      "Processing Record 382 | diffa\n",
      "Processing Record 383 | srednekolymsk\n",
      "City is not found.\n",
      "Processing Record 384 | pedra azul\n",
      "Processing Record 385 | porto novo\n",
      "Processing Record 386 | tecoanapa\n",
      "Processing Record 387 | martapura\n",
      "Processing Record 388 | burnie\n",
      "Processing Record 389 | alofi\n",
      "Processing Record 390 | rawatsar\n",
      "Processing Record 391 | vidim\n",
      "Processing Record 392 | guerrero negro\n",
      "Processing Record 393 | zhangjiakou\n",
      "Processing Record 394 | kenai\n",
      "Processing Record 395 | ambilobe\n",
      "Processing Record 396 | calvinia\n",
      "Processing Record 397 | along\n",
      "Processing Record 398 | kulotino\n",
      "Processing Record 399 | dukat\n",
      "Processing Record 400 | ranong\n",
      "Processing Record 401 | yaan\n",
      "Processing Record 402 | kontagora\n",
      "Processing Record 403 | mahanoro\n",
      "Processing Record 404 | yamada\n",
      "Processing Record 405 | morondava\n",
      "Processing Record 406 | dingli\n",
      "Processing Record 407 | kirakira\n",
      "Processing Record 408 | krasnopavlivka\n",
      "Processing Record 409 | komsomolskiy\n",
      "Processing Record 410 | mariana\n",
      "Processing Record 411 | san cristobal\n",
      "Processing Record 412 | slave lake\n",
      "Processing Record 413 | uray\n",
      "Processing Record 414 | bara\n",
      "Processing Record 415 | carutapera\n",
      "Processing Record 416 | pathein\n",
      "City is not found.\n",
      "Processing Record 417 | buin\n",
      "Processing Record 418 | inuvik\n",
      "Processing Record 419 | talnakh\n",
      "Processing Record 420 | nuevo progreso\n",
      "Processing Record 421 | kijang\n",
      "Processing Record 422 | fairbanks\n",
      "Processing Record 423 | algeciras\n",
      "Processing Record 424 | mayo\n",
      "City is not found.\n",
      "Processing Record 425 | kieta\n",
      "Processing Record 426 | mwene-ditu\n",
      "Processing Record 427 | mahibadhoo\n",
      "Processing Record 428 | tandil\n",
      "Processing Record 429 | bontang\n",
      "Processing Record 430 | arman\n",
      "Processing Record 431 | tobermory\n",
      "Processing Record 432 | north bend\n",
      "Processing Record 433 | ayan\n",
      "City is not found.\n",
      "Processing Record 434 | saint-georges\n",
      "Processing Record 435 | porto de moz\n",
      "Processing Record 436 | flinders\n",
      "Processing Record 437 | thinadhoo\n",
      "Processing Record 438 | pangkalanbuun\n",
      "Processing Record 439 | saint-joseph\n",
      "City is not found.\n",
      "Processing Record 440 | san\n",
      "Processing Record 441 | senj\n",
      "City is not found.\n",
      "Processing Record 442 | henties bay\n",
      "Processing Record 443 | marsh harbour\n",
      "City is not found.\n",
      "Processing Record 444 | vokhma\n",
      "Processing Record 445 | bilibino\n",
      "Processing Record 446 | olot\n",
      "City is not found.\n",
      "Processing Record 447 | sola\n",
      "Processing Record 448 | doctor juan manuel frutos\n",
      "Processing Record 449 | belyy\n",
      "City is not found.\n",
      "Processing Record 450 | port hawkesbury\n",
      "Processing Record 451 | concordia\n",
      "Processing Record 452 | luena\n",
      "Processing Record 453 | sorland\n",
      "City is not found.\n",
      "Processing Record 454 | tubuala\n",
      "Processing Record 455 | mongo\n",
      "Processing Record 456 | utete\n",
      "Processing Record 457 | yenagoa\n",
      "Processing Record 458 | barber\n",
      "City is not found.\n",
      "Processing Record 459 | shingu\n",
      "Processing Record 460 | kerman\n",
      "Processing Record 461 | irbil\n",
      "Processing Record 462 | majene\n",
      "Processing Record 463 | namatanai\n",
      "Processing Record 464 | oranjemund\n",
      "Processing Record 465 | kongsberg\n",
      "Processing Record 466 | skibbereen\n",
      "Processing Record 467 | kidal\n",
      "Processing Record 468 | sasso marconi\n",
      "Processing Record 469 | pak phanang\n",
      "Processing Record 470 | mayumba\n",
      "Processing Record 471 | miragoane\n"
     ]
    },
    {
     "name": "stdout",
     "output_type": "stream",
     "text": [
      "Processing Record 472 | heinola\n",
      "Processing Record 473 | amahai\n",
      "Processing Record 474 | wuwei\n",
      "Processing Record 475 | manggar\n",
      "Processing Record 476 | hambantota\n",
      "City is not found.\n",
      "Processing Record 477 | itacarambi\n",
      "Processing Record 478 | teya\n",
      "Processing Record 479 | coahuayana\n",
      "Processing Record 480 | maniitsoq\n",
      "Processing Record 481 | iskateley\n",
      "Processing Record 482 | daru\n",
      "Processing Record 483 | anloga\n",
      "Processing Record 484 | kangaatsiaq\n",
      "City is not found.\n",
      "Processing Record 485 | mendeleyevo\n",
      "Processing Record 486 | dunedin\n",
      "Processing Record 487 | bereslavka\n",
      "Processing Record 488 | nome\n",
      "Processing Record 489 | bibbiena\n",
      "Processing Record 490 | lhokseumawe\n",
      "Processing Record 491 | ingraj bazar\n",
      "Processing Record 492 | chipinge\n",
      "Processing Record 493 | antalaha\n",
      "Processing Record 494 | letlhakane\n",
      "City is not found.\n",
      "Processing Record 495 | wagga wagga\n",
      "Processing Record 496 | college\n",
      "City is not found.\n",
      "Processing Record 497 | kanel\n",
      "Processing Record 498 | juegang\n",
      "Processing Record 499 | sydney\n",
      "Processing Record 500 | san luis\n",
      "Processing Record 501 | robertsport\n",
      "Processing Record 502 | puerto escondido\n",
      "Processing Record 503 | naryan-mar\n",
      "Processing Record 504 | rivera\n",
      "Processing Record 505 | sale\n",
      "Processing Record 506 | qostanay\n",
      "Processing Record 507 | churapcha\n",
      "Processing Record 508 | carnduff\n",
      "Processing Record 509 | pringsewu\n",
      "Processing Record 510 | weyburn\n",
      "Processing Record 511 | kakonko\n",
      "Processing Record 512 | vrangel\n",
      "Processing Record 513 | datong\n",
      "Processing Record 514 | atambua\n",
      "Processing Record 515 | powell river\n",
      "Processing Record 516 | zanzibar\n",
      "Processing Record 517 | shiyan\n",
      "Processing Record 518 | gallup\n",
      "Processing Record 519 | chililabombwe\n",
      "Processing Record 520 | serebryanyy bor\n",
      "Processing Record 521 | cape canaveral\n",
      "Processing Record 522 | nouakchott\n",
      "Processing Record 523 | buraydah\n",
      "City is not found.\n",
      "Processing Record 524 | versoix\n",
      "Processing Record 525 | aksu\n",
      "Processing Record 526 | mponela\n",
      "Processing Record 527 | montepuez\n",
      "Processing Record 528 | hegang\n",
      "Processing Record 529 | bubaque\n",
      "City is not found.\n",
      "Processing Record 530 | quatre cocos\n",
      "Processing Record 531 | kondoa\n",
      "Processing Record 532 | kuching\n",
      "Processing Record 533 | del rio\n",
      "Processing Record 534 | kochi\n",
      "Processing Record 535 | nioro\n",
      "Processing Record 536 | visakhapatnam\n",
      "City is not found.\n",
      "City is not found.\n",
      "Processing Record 537 | luocheng\n",
      "Processing Record 538 | kumphawapi\n",
      "Processing Record 539 | sharjah\n",
      "City is not found.\n",
      "Processing Record 540 | tucuma\n",
      "Processing Record 541 | kultuk\n",
      "Processing Record 542 | san jose\n",
      "Processing Record 543 | ambon\n",
      "Processing Record 544 | san isidro\n",
      "Processing Record 545 | comodoro rivadavia\n",
      "Processing Record 546 | bhainsdehi\n",
      "Processing Record 547 | graniceri\n",
      "Processing Record 548 | langsa\n",
      "City is not found.\n",
      "Processing Record 549 | nador\n",
      "City is not found.\n",
      "Processing Record 550 | nzega\n",
      "Processing Record 551 | kendari\n",
      "Processing Record 552 | fairlie\n",
      "City is not found.\n",
      "Processing Record 553 | eyrarbakki\n",
      "Processing Record 554 | puerto colombia\n",
      "Processing Record 555 | leshukonskoye\n",
      "Processing Record 556 | eyl\n",
      "Processing Record 557 | dhankuta\n",
      "Processing Record 558 | grand island\n",
      "Processing Record 559 | duku\n",
      "City is not found.\n",
      "___________End of Retrieval_____________\n"
     ]
    }
   ],
   "source": [
    "# Save config information.\n",
    "url = \"http://api.openweathermap.org/data/2.5/weather?\"\n",
    "units = \"imperial\"\n",
    "\n",
    "# Build partial query URL\n",
    "query_url = f\"{url}appid={weather_api_key}&units={units}&q=\"\n",
    "\n",
    "\n",
    "# set up lists to hold reponse info\n",
    "lat=[]\n",
    "temp=[]\n",
    "lon=[]\n",
    "humidity=[]\n",
    "cloudiness=[]\n",
    "wind_speed=[]\n",
    "city_names=[]\n",
    "country=[]\n",
    "date=[]\n",
    "\n",
    "# Loop through the list of cities and perform a request for data on each\n",
    "print(f\"Beginning Data Retrieval\")\n",
    "print(\"-----------------------------\")\n",
    "record_count = 1\n",
    "for city in cities:\n",
    "    try:\n",
    "        response = requests.get(query_url + city).json()\n",
    "        lat.append(response['coord']['lat'])\n",
    "        temp.append(response['main']['temp_max'])\n",
    "        lon.append(response['coord']['lon'])\n",
    "        humidity.append(response['main']['humidity'])\n",
    "        cloudiness.append(response['clouds']['all'])\n",
    "        wind_speed.append(response['wind']['speed'])\n",
    "        country.append(response['sys']['country'])\n",
    "        date.append(response['dt'])\n",
    "        city_names.append(city)   \n",
    "    \n",
    "        #time.sleep(1)\n",
    "        \n",
    "        print(f\"Processing Record {record_count} | {city}\") \n",
    "        record_count= record_count + 1\n",
    "    except:\n",
    "        print(\"City is not found.\")\n",
    "print(\"___________End of Retrieval_____________\")"
   ]
  },
  {
   "cell_type": "markdown",
   "metadata": {},
   "source": [
    "### Convert Raw Data to DataFrame\n",
    "* Export the city data into a .csv.\n",
    "* Display the DataFrame"
   ]
  },
  {
   "cell_type": "code",
   "execution_count": 5,
   "metadata": {
    "scrolled": true
   },
   "outputs": [
    {
     "data": {
      "text/html": [
       "<div>\n",
       "<style scoped>\n",
       "    .dataframe tbody tr th:only-of-type {\n",
       "        vertical-align: middle;\n",
       "    }\n",
       "\n",
       "    .dataframe tbody tr th {\n",
       "        vertical-align: top;\n",
       "    }\n",
       "\n",
       "    .dataframe thead th {\n",
       "        text-align: right;\n",
       "    }\n",
       "</style>\n",
       "<table border=\"1\" class=\"dataframe\">\n",
       "  <thead>\n",
       "    <tr style=\"text-align: right;\">\n",
       "      <th></th>\n",
       "      <th>City</th>\n",
       "      <th>Country</th>\n",
       "      <th>Lat</th>\n",
       "      <th>Lng</th>\n",
       "      <th>Max Temperature (F)</th>\n",
       "      <th>Humidity (%)</th>\n",
       "      <th>Cloudiness (%)</th>\n",
       "      <th>Wind Speed (mph)</th>\n",
       "      <th>Date(dt)</th>\n",
       "    </tr>\n",
       "  </thead>\n",
       "  <tbody>\n",
       "    <tr>\n",
       "      <td>0</td>\n",
       "      <td>busselton</td>\n",
       "      <td>AU</td>\n",
       "      <td>-33.65</td>\n",
       "      <td>115.33</td>\n",
       "      <td>54.00</td>\n",
       "      <td>82</td>\n",
       "      <td>100</td>\n",
       "      <td>5.50</td>\n",
       "      <td>1592248796</td>\n",
       "    </tr>\n",
       "    <tr>\n",
       "      <td>1</td>\n",
       "      <td>mataura</td>\n",
       "      <td>NZ</td>\n",
       "      <td>-46.19</td>\n",
       "      <td>168.86</td>\n",
       "      <td>43.90</td>\n",
       "      <td>88</td>\n",
       "      <td>1</td>\n",
       "      <td>4.27</td>\n",
       "      <td>1592248796</td>\n",
       "    </tr>\n",
       "    <tr>\n",
       "      <td>2</td>\n",
       "      <td>shimoda</td>\n",
       "      <td>JP</td>\n",
       "      <td>34.67</td>\n",
       "      <td>138.95</td>\n",
       "      <td>66.00</td>\n",
       "      <td>91</td>\n",
       "      <td>100</td>\n",
       "      <td>2.35</td>\n",
       "      <td>1592248797</td>\n",
       "    </tr>\n",
       "    <tr>\n",
       "      <td>3</td>\n",
       "      <td>vaini</td>\n",
       "      <td>TO</td>\n",
       "      <td>-21.20</td>\n",
       "      <td>-175.20</td>\n",
       "      <td>69.80</td>\n",
       "      <td>73</td>\n",
       "      <td>20</td>\n",
       "      <td>10.29</td>\n",
       "      <td>1592248797</td>\n",
       "    </tr>\n",
       "    <tr>\n",
       "      <td>4</td>\n",
       "      <td>todos santos</td>\n",
       "      <td>MX</td>\n",
       "      <td>23.45</td>\n",
       "      <td>-110.22</td>\n",
       "      <td>72.00</td>\n",
       "      <td>79</td>\n",
       "      <td>0</td>\n",
       "      <td>5.99</td>\n",
       "      <td>1592248797</td>\n",
       "    </tr>\n",
       "    <tr>\n",
       "      <td>...</td>\n",
       "      <td>...</td>\n",
       "      <td>...</td>\n",
       "      <td>...</td>\n",
       "      <td>...</td>\n",
       "      <td>...</td>\n",
       "      <td>...</td>\n",
       "      <td>...</td>\n",
       "      <td>...</td>\n",
       "      <td>...</td>\n",
       "    </tr>\n",
       "    <tr>\n",
       "      <td>554</td>\n",
       "      <td>leshukonskoye</td>\n",
       "      <td>RU</td>\n",
       "      <td>64.90</td>\n",
       "      <td>45.76</td>\n",
       "      <td>61.00</td>\n",
       "      <td>60</td>\n",
       "      <td>100</td>\n",
       "      <td>5.86</td>\n",
       "      <td>1592248881</td>\n",
       "    </tr>\n",
       "    <tr>\n",
       "      <td>555</td>\n",
       "      <td>eyl</td>\n",
       "      <td>SO</td>\n",
       "      <td>7.98</td>\n",
       "      <td>49.82</td>\n",
       "      <td>84.97</td>\n",
       "      <td>56</td>\n",
       "      <td>19</td>\n",
       "      <td>21.16</td>\n",
       "      <td>1592248881</td>\n",
       "    </tr>\n",
       "    <tr>\n",
       "      <td>556</td>\n",
       "      <td>dhankuta</td>\n",
       "      <td>NP</td>\n",
       "      <td>26.98</td>\n",
       "      <td>87.33</td>\n",
       "      <td>71.82</td>\n",
       "      <td>87</td>\n",
       "      <td>100</td>\n",
       "      <td>1.92</td>\n",
       "      <td>1592248881</td>\n",
       "    </tr>\n",
       "    <tr>\n",
       "      <td>557</td>\n",
       "      <td>grand island</td>\n",
       "      <td>US</td>\n",
       "      <td>40.92</td>\n",
       "      <td>-98.34</td>\n",
       "      <td>93.20</td>\n",
       "      <td>24</td>\n",
       "      <td>1</td>\n",
       "      <td>23.04</td>\n",
       "      <td>1592248860</td>\n",
       "    </tr>\n",
       "    <tr>\n",
       "      <td>558</td>\n",
       "      <td>duku</td>\n",
       "      <td>NG</td>\n",
       "      <td>11.24</td>\n",
       "      <td>4.91</td>\n",
       "      <td>87.30</td>\n",
       "      <td>55</td>\n",
       "      <td>0</td>\n",
       "      <td>5.50</td>\n",
       "      <td>1592248881</td>\n",
       "    </tr>\n",
       "  </tbody>\n",
       "</table>\n",
       "<p>559 rows × 9 columns</p>\n",
       "</div>"
      ],
      "text/plain": [
       "              City Country    Lat     Lng  Max Temperature (F)  Humidity (%)  \\\n",
       "0        busselton      AU -33.65  115.33                54.00            82   \n",
       "1          mataura      NZ -46.19  168.86                43.90            88   \n",
       "2          shimoda      JP  34.67  138.95                66.00            91   \n",
       "3            vaini      TO -21.20 -175.20                69.80            73   \n",
       "4     todos santos      MX  23.45 -110.22                72.00            79   \n",
       "..             ...     ...    ...     ...                  ...           ...   \n",
       "554  leshukonskoye      RU  64.90   45.76                61.00            60   \n",
       "555            eyl      SO   7.98   49.82                84.97            56   \n",
       "556       dhankuta      NP  26.98   87.33                71.82            87   \n",
       "557   grand island      US  40.92  -98.34                93.20            24   \n",
       "558           duku      NG  11.24    4.91                87.30            55   \n",
       "\n",
       "     Cloudiness (%)  Wind Speed (mph)    Date(dt)  \n",
       "0               100              5.50  1592248796  \n",
       "1                 1              4.27  1592248796  \n",
       "2               100              2.35  1592248797  \n",
       "3                20             10.29  1592248797  \n",
       "4                 0              5.99  1592248797  \n",
       "..              ...               ...         ...  \n",
       "554             100              5.86  1592248881  \n",
       "555              19             21.16  1592248881  \n",
       "556             100              1.92  1592248881  \n",
       "557               1             23.04  1592248860  \n",
       "558               0              5.50  1592248881  \n",
       "\n",
       "[559 rows x 9 columns]"
      ]
     },
     "execution_count": 5,
     "metadata": {},
     "output_type": "execute_result"
    }
   ],
   "source": [
    "main_df = pd.DataFrame(\n",
    "    {\"City\": city_names,\n",
    "     \"Country\": country,\n",
    "     \"Lat\": lat,\n",
    "     \"Lng\": lon,\n",
    "     \"Max Temperature (F)\": temp,\n",
    "     \"Humidity (%)\": humidity,\n",
    "     \"Cloudiness (%)\": cloudiness,\n",
    "     \"Wind Speed (mph)\": wind_speed,\n",
    "     \"Date(dt)\": date\n",
    "    })\n",
    "\n",
    "main_df\n"
   ]
  },
  {
   "cell_type": "code",
   "execution_count": 6,
   "metadata": {},
   "outputs": [
    {
     "data": {
      "text/plain": [
       "City                   559\n",
       "Country                559\n",
       "Lat                    559\n",
       "Lng                    559\n",
       "Max Temperature (F)    559\n",
       "Humidity (%)           559\n",
       "Cloudiness (%)         559\n",
       "Wind Speed (mph)       559\n",
       "Date(dt)               559\n",
       "dtype: int64"
      ]
     },
     "execution_count": 6,
     "metadata": {},
     "output_type": "execute_result"
    }
   ],
   "source": [
    "main_df.count()"
   ]
  },
  {
   "cell_type": "code",
   "execution_count": 7,
   "metadata": {},
   "outputs": [],
   "source": [
    "# Export the City_Data into a csv\n",
    "\n",
    "main_df.to_csv(\"output_data/cities.csv\", encoding=\"utf-8\", index=False)"
   ]
  },
  {
   "cell_type": "markdown",
   "metadata": {},
   "source": [
    "## Inspect the data and remove the cities where the humidity > 100%.\n",
    "----\n",
    "Skip this step if there are no cities that have humidity > 100%. "
   ]
  },
  {
   "cell_type": "code",
   "execution_count": 8,
   "metadata": {},
   "outputs": [
    {
     "data": {
      "text/plain": [
       "100"
      ]
     },
     "execution_count": 8,
     "metadata": {},
     "output_type": "execute_result"
    }
   ],
   "source": [
    "# #drop records with humidity over a hundred, new ref to data frame updated_df\n",
    "# updated_df = main_df.loc[main_df[\"Cities\"][\"Humidity (%)\"]]\n",
    "\n",
    "main_df[\"Humidity (%)\"].max()\n"
   ]
  },
  {
   "cell_type": "code",
   "execution_count": 9,
   "metadata": {},
   "outputs": [
    {
     "name": "stdout",
     "output_type": "stream",
     "text": [
      "Int64Index([], dtype='int64')\n"
     ]
    }
   ],
   "source": [
    "# Get the indices of cities that have humidity over 100%.\n",
    "\n",
    "hum_ind_df = main_df[main_df['Humidity (%)'] > 100].index\n",
    "print(hum_ind_df)\n"
   ]
  },
  {
   "cell_type": "code",
   "execution_count": 10,
   "metadata": {},
   "outputs": [
    {
     "data": {
      "text/html": [
       "<div>\n",
       "<style scoped>\n",
       "    .dataframe tbody tr th:only-of-type {\n",
       "        vertical-align: middle;\n",
       "    }\n",
       "\n",
       "    .dataframe tbody tr th {\n",
       "        vertical-align: top;\n",
       "    }\n",
       "\n",
       "    .dataframe thead th {\n",
       "        text-align: right;\n",
       "    }\n",
       "</style>\n",
       "<table border=\"1\" class=\"dataframe\">\n",
       "  <thead>\n",
       "    <tr style=\"text-align: right;\">\n",
       "      <th></th>\n",
       "      <th>City</th>\n",
       "      <th>Country</th>\n",
       "      <th>Lat</th>\n",
       "      <th>Lng</th>\n",
       "      <th>Max Temperature (F)</th>\n",
       "      <th>Humidity (%)</th>\n",
       "      <th>Cloudiness (%)</th>\n",
       "      <th>Wind Speed (mph)</th>\n",
       "      <th>Date(dt)</th>\n",
       "    </tr>\n",
       "  </thead>\n",
       "  <tbody>\n",
       "    <tr>\n",
       "      <td>0</td>\n",
       "      <td>busselton</td>\n",
       "      <td>AU</td>\n",
       "      <td>-33.65</td>\n",
       "      <td>115.33</td>\n",
       "      <td>54.00</td>\n",
       "      <td>82</td>\n",
       "      <td>100</td>\n",
       "      <td>5.50</td>\n",
       "      <td>1592248796</td>\n",
       "    </tr>\n",
       "    <tr>\n",
       "      <td>1</td>\n",
       "      <td>mataura</td>\n",
       "      <td>NZ</td>\n",
       "      <td>-46.19</td>\n",
       "      <td>168.86</td>\n",
       "      <td>43.90</td>\n",
       "      <td>88</td>\n",
       "      <td>1</td>\n",
       "      <td>4.27</td>\n",
       "      <td>1592248796</td>\n",
       "    </tr>\n",
       "    <tr>\n",
       "      <td>2</td>\n",
       "      <td>shimoda</td>\n",
       "      <td>JP</td>\n",
       "      <td>34.67</td>\n",
       "      <td>138.95</td>\n",
       "      <td>66.00</td>\n",
       "      <td>91</td>\n",
       "      <td>100</td>\n",
       "      <td>2.35</td>\n",
       "      <td>1592248797</td>\n",
       "    </tr>\n",
       "    <tr>\n",
       "      <td>3</td>\n",
       "      <td>vaini</td>\n",
       "      <td>TO</td>\n",
       "      <td>-21.20</td>\n",
       "      <td>-175.20</td>\n",
       "      <td>69.80</td>\n",
       "      <td>73</td>\n",
       "      <td>20</td>\n",
       "      <td>10.29</td>\n",
       "      <td>1592248797</td>\n",
       "    </tr>\n",
       "    <tr>\n",
       "      <td>4</td>\n",
       "      <td>todos santos</td>\n",
       "      <td>MX</td>\n",
       "      <td>23.45</td>\n",
       "      <td>-110.22</td>\n",
       "      <td>72.00</td>\n",
       "      <td>79</td>\n",
       "      <td>0</td>\n",
       "      <td>5.99</td>\n",
       "      <td>1592248797</td>\n",
       "    </tr>\n",
       "    <tr>\n",
       "      <td>...</td>\n",
       "      <td>...</td>\n",
       "      <td>...</td>\n",
       "      <td>...</td>\n",
       "      <td>...</td>\n",
       "      <td>...</td>\n",
       "      <td>...</td>\n",
       "      <td>...</td>\n",
       "      <td>...</td>\n",
       "      <td>...</td>\n",
       "    </tr>\n",
       "    <tr>\n",
       "      <td>554</td>\n",
       "      <td>leshukonskoye</td>\n",
       "      <td>RU</td>\n",
       "      <td>64.90</td>\n",
       "      <td>45.76</td>\n",
       "      <td>61.00</td>\n",
       "      <td>60</td>\n",
       "      <td>100</td>\n",
       "      <td>5.86</td>\n",
       "      <td>1592248881</td>\n",
       "    </tr>\n",
       "    <tr>\n",
       "      <td>555</td>\n",
       "      <td>eyl</td>\n",
       "      <td>SO</td>\n",
       "      <td>7.98</td>\n",
       "      <td>49.82</td>\n",
       "      <td>84.97</td>\n",
       "      <td>56</td>\n",
       "      <td>19</td>\n",
       "      <td>21.16</td>\n",
       "      <td>1592248881</td>\n",
       "    </tr>\n",
       "    <tr>\n",
       "      <td>556</td>\n",
       "      <td>dhankuta</td>\n",
       "      <td>NP</td>\n",
       "      <td>26.98</td>\n",
       "      <td>87.33</td>\n",
       "      <td>71.82</td>\n",
       "      <td>87</td>\n",
       "      <td>100</td>\n",
       "      <td>1.92</td>\n",
       "      <td>1592248881</td>\n",
       "    </tr>\n",
       "    <tr>\n",
       "      <td>557</td>\n",
       "      <td>grand island</td>\n",
       "      <td>US</td>\n",
       "      <td>40.92</td>\n",
       "      <td>-98.34</td>\n",
       "      <td>93.20</td>\n",
       "      <td>24</td>\n",
       "      <td>1</td>\n",
       "      <td>23.04</td>\n",
       "      <td>1592248860</td>\n",
       "    </tr>\n",
       "    <tr>\n",
       "      <td>558</td>\n",
       "      <td>duku</td>\n",
       "      <td>NG</td>\n",
       "      <td>11.24</td>\n",
       "      <td>4.91</td>\n",
       "      <td>87.30</td>\n",
       "      <td>55</td>\n",
       "      <td>0</td>\n",
       "      <td>5.50</td>\n",
       "      <td>1592248881</td>\n",
       "    </tr>\n",
       "  </tbody>\n",
       "</table>\n",
       "<p>559 rows × 9 columns</p>\n",
       "</div>"
      ],
      "text/plain": [
       "              City Country    Lat     Lng  Max Temperature (F)  Humidity (%)  \\\n",
       "0        busselton      AU -33.65  115.33                54.00            82   \n",
       "1          mataura      NZ -46.19  168.86                43.90            88   \n",
       "2          shimoda      JP  34.67  138.95                66.00            91   \n",
       "3            vaini      TO -21.20 -175.20                69.80            73   \n",
       "4     todos santos      MX  23.45 -110.22                72.00            79   \n",
       "..             ...     ...    ...     ...                  ...           ...   \n",
       "554  leshukonskoye      RU  64.90   45.76                61.00            60   \n",
       "555            eyl      SO   7.98   49.82                84.97            56   \n",
       "556       dhankuta      NP  26.98   87.33                71.82            87   \n",
       "557   grand island      US  40.92  -98.34                93.20            24   \n",
       "558           duku      NG  11.24    4.91                87.30            55   \n",
       "\n",
       "     Cloudiness (%)  Wind Speed (mph)    Date(dt)  \n",
       "0               100              5.50  1592248796  \n",
       "1                 1              4.27  1592248796  \n",
       "2               100              2.35  1592248797  \n",
       "3                20             10.29  1592248797  \n",
       "4                 0              5.99  1592248797  \n",
       "..              ...               ...         ...  \n",
       "554             100              5.86  1592248881  \n",
       "555              19             21.16  1592248881  \n",
       "556             100              1.92  1592248881  \n",
       "557               1             23.04  1592248860  \n",
       "558               0              5.50  1592248881  \n",
       "\n",
       "[559 rows x 9 columns]"
      ]
     },
     "execution_count": 10,
     "metadata": {},
     "output_type": "execute_result"
    }
   ],
   "source": [
    "# Make a new DataFrame equal to the city data to drop all humidity outliers by index.\n",
    "# Passing \"inplace=False\" will make a copy of the city_data DataFrame, which we call \"clean_city_data\".\n",
    "\n",
    "clean_city_data_df = main_df[main_df['Humidity (%)'] <= 100] \n",
    "clean_city_data_df\n"
   ]
  },
  {
   "cell_type": "markdown",
   "metadata": {},
   "source": [
    "## Plotting the Data\n",
    "* Use proper labeling of the plots using plot titles (including date of analysis) and axes labels.\n",
    "* Save the plotted figures as .pngs."
   ]
  },
  {
   "cell_type": "markdown",
   "metadata": {},
   "source": [
    "## Latitude vs. Temperature Plot"
   ]
  },
  {
   "cell_type": "code",
   "execution_count": 11,
   "metadata": {
    "scrolled": true
   },
   "outputs": [
    {
     "data": {
      "image/png": "[encoded data removed]",
      "text/plain": [
       "<Figure size 432x288 with 1 Axes>"
      ]
     },
     "metadata": {
      "needs_background": "light"
     },
     "output_type": "display_data"
    }
   ],
   "source": [
    "# Plot latitude versus temperature\n",
    "x_values = main_df[\"Lat\"]\n",
    "y_values = main_df['Max Temperature (F)']\n",
    "plt.scatter(x_values,y_values)\n",
    "plt.title(\"City Latitude vs. Max Temperature(F) 06/01/20\")\n",
    "plt.xlabel('Latitude')\n",
    "plt.ylabel('Max Temperature (F)')\n",
    "plt.savefig(\"../Python_API/output_data/City Latitude vs. Max Temperature(F).png\")\n",
    "plt.show()\n"
   ]
  },
  {
   "cell_type": "markdown",
   "metadata": {},
   "source": [
    "## Latitude vs. Humidity Plot"
   ]
  },
  {
   "cell_type": "code",
   "execution_count": 12,
   "metadata": {},
   "outputs": [
    {
     "data": {
      "image/png": "[encoded data removed]",
      "text/plain": [
       "<Figure size 432x288 with 1 Axes>"
      ]
     },
     "metadata": {
      "needs_background": "light"
     },
     "output_type": "display_data"
    }
   ],
   "source": [
    "# Plot latitude versus humidity \n",
    "x_values = main_df[\"Lat\"]\n",
    "y_values = main_df['Humidity (%)']\n",
    "plt.scatter(x_values,y_values)\n",
    "plt.title(\"City Latitude vs. Humidity (%) 06/01/20\")\n",
    "plt.xlabel('Latitude')\n",
    "plt.ylabel('Humidity (%)')\n",
    "\n",
    "plt.savefig(\"../Python_API/output_data/City Latitude vs. Humidity (%).png\")\n",
    "plt.show()"
   ]
  },
  {
   "cell_type": "markdown",
   "metadata": {},
   "source": [
    "## Latitude vs. Cloudiness Plot"
   ]
  },
  {
   "cell_type": "code",
   "execution_count": 13,
   "metadata": {},
   "outputs": [
    {
     "data": {
      "image/png": "[encoded data removed]",
      "text/plain": [
       "<Figure size 432x288 with 1 Axes>"
      ]
     },
     "metadata": {
      "needs_background": "light"
     },
     "output_type": "display_data"
    }
   ],
   "source": [
    "# Plot latitude versus cloudiness\n",
    "x_values = main_df[\"Lat\"]\n",
    "y_values = main_df['Cloudiness (%)']\n",
    "plt.scatter(x_values,y_values)\n",
    "plt.title(\"City Latitude vs. Cloudiness (%) 06/01/20\")\n",
    "plt.xlabel('Latitude')\n",
    "plt.ylabel('Cloudiness (%)')\n",
    "\n",
    "plt.savefig(\"../Python_API/output_data/City Latitude vs. Cloudiness (%).png\")\n",
    "plt.show()"
   ]
  },
  {
   "cell_type": "markdown",
   "metadata": {},
   "source": [
    "## Latitude vs. Wind Speed Plot"
   ]
  },
  {
   "cell_type": "code",
   "execution_count": 14,
   "metadata": {},
   "outputs": [
    {
     "data": {
      "image/png": "[encoded data removed]",
      "text/plain": [
       "<Figure size 432x288 with 1 Axes>"
      ]
     },
     "metadata": {
      "needs_background": "light"
     },
     "output_type": "display_data"
    }
   ],
   "source": [
    "# Plot latitude versus wind speed plot\n",
    "x_values = main_df[\"Lat\"]\n",
    "y_values = main_df['Wind Speed (mph)']\n",
    "plt.scatter(x_values,y_values)\n",
    "plt.title(\"City Latitude vs. Wind Speed (mph) 06/01/20\")\n",
    "plt.xlabel('Latitude')\n",
    "plt.ylabel('Wind Speed (mph)')\n",
    "\n",
    "plt.savefig(\"../Python_API/output_data/City Latitude vs. Wind Speed (mph).png\")\n",
    "plt.show()"
   ]
  },
  {
   "cell_type": "markdown",
   "metadata": {},
   "source": [
    "## Linear Regression"
   ]
  },
  {
   "cell_type": "code",
   "execution_count": 15,
   "metadata": {},
   "outputs": [],
   "source": [
    "# Create a function to create Linear Regression plots\n",
    "\n",
    "def linearplot(x_values,y_values,y_label, coor):\n",
    "    \n",
    "\n",
    "    print(f\"The r-value is: {round(st.pearsonr(x_values, y_values)[0],2)}\")\n",
    "    \n",
    "    (slope, intercept, rvalue, pvalue, stderr) = linregress(x_values, y_values)\n",
    "    regress_values = x_values * slope + intercept\n",
    "    line_eq = \"y = \" + str(round(slope,2)) + \"x + \" + str(round(intercept,2))\n",
    "    plt.scatter(x_values,y_values)\n",
    "    plt.plot(x_values,regress_values,\"r-\")\n",
    "    plt.annotate(line_eq,coor,fontsize=15,color=\"red\")\n",
    " \n",
    "    plt.xlabel('Latitude')\n",
    "    plt.ylabel(y_label)\n",
    "    \n",
    "   \n",
    " \n"
   ]
  },
  {
   "cell_type": "code",
   "execution_count": 16,
   "metadata": {},
   "outputs": [
    {
     "data": {
      "text/html": [
       "<div>\n",
       "<style scoped>\n",
       "    .dataframe tbody tr th:only-of-type {\n",
       "        vertical-align: middle;\n",
       "    }\n",
       "\n",
       "    .dataframe tbody tr th {\n",
       "        vertical-align: top;\n",
       "    }\n",
       "\n",
       "    .dataframe thead th {\n",
       "        text-align: right;\n",
       "    }\n",
       "</style>\n",
       "<table border=\"1\" class=\"dataframe\">\n",
       "  <thead>\n",
       "    <tr style=\"text-align: right;\">\n",
       "      <th></th>\n",
       "      <th>City</th>\n",
       "      <th>Country</th>\n",
       "      <th>Lat</th>\n",
       "      <th>Lng</th>\n",
       "      <th>Max Temperature (F)</th>\n",
       "      <th>Humidity (%)</th>\n",
       "      <th>Cloudiness (%)</th>\n",
       "      <th>Wind Speed (mph)</th>\n",
       "      <th>Date(dt)</th>\n",
       "    </tr>\n",
       "  </thead>\n",
       "  <tbody>\n",
       "    <tr>\n",
       "      <td>2</td>\n",
       "      <td>shimoda</td>\n",
       "      <td>JP</td>\n",
       "      <td>34.67</td>\n",
       "      <td>138.95</td>\n",
       "      <td>66.00</td>\n",
       "      <td>91</td>\n",
       "      <td>100</td>\n",
       "      <td>2.35</td>\n",
       "      <td>1592248797</td>\n",
       "    </tr>\n",
       "    <tr>\n",
       "      <td>4</td>\n",
       "      <td>todos santos</td>\n",
       "      <td>MX</td>\n",
       "      <td>23.45</td>\n",
       "      <td>-110.22</td>\n",
       "      <td>72.00</td>\n",
       "      <td>79</td>\n",
       "      <td>0</td>\n",
       "      <td>5.99</td>\n",
       "      <td>1592248797</td>\n",
       "    </tr>\n",
       "    <tr>\n",
       "      <td>6</td>\n",
       "      <td>albany</td>\n",
       "      <td>US</td>\n",
       "      <td>42.60</td>\n",
       "      <td>-73.97</td>\n",
       "      <td>78.01</td>\n",
       "      <td>32</td>\n",
       "      <td>42</td>\n",
       "      <td>2.46</td>\n",
       "      <td>1592248797</td>\n",
       "    </tr>\n",
       "    <tr>\n",
       "      <td>8</td>\n",
       "      <td>anadyr</td>\n",
       "      <td>RU</td>\n",
       "      <td>64.75</td>\n",
       "      <td>177.48</td>\n",
       "      <td>44.01</td>\n",
       "      <td>80</td>\n",
       "      <td>100</td>\n",
       "      <td>7.47</td>\n",
       "      <td>1592248536</td>\n",
       "    </tr>\n",
       "    <tr>\n",
       "      <td>9</td>\n",
       "      <td>lagoa</td>\n",
       "      <td>PT</td>\n",
       "      <td>39.05</td>\n",
       "      <td>-27.98</td>\n",
       "      <td>64.58</td>\n",
       "      <td>87</td>\n",
       "      <td>14</td>\n",
       "      <td>19.28</td>\n",
       "      <td>1592248798</td>\n",
       "    </tr>\n",
       "  </tbody>\n",
       "</table>\n",
       "</div>"
      ],
      "text/plain": [
       "           City Country    Lat     Lng  Max Temperature (F)  Humidity (%)  \\\n",
       "2       shimoda      JP  34.67  138.95                66.00            91   \n",
       "4  todos santos      MX  23.45 -110.22                72.00            79   \n",
       "6        albany      US  42.60  -73.97                78.01            32   \n",
       "8        anadyr      RU  64.75  177.48                44.01            80   \n",
       "9         lagoa      PT  39.05  -27.98                64.58            87   \n",
       "\n",
       "   Cloudiness (%)  Wind Speed (mph)    Date(dt)  \n",
       "2             100              2.35  1592248797  \n",
       "4               0              5.99  1592248797  \n",
       "6              42              2.46  1592248797  \n",
       "8             100              7.47  1592248536  \n",
       "9              14             19.28  1592248798  "
      ]
     },
     "execution_count": 16,
     "metadata": {},
     "output_type": "execute_result"
    }
   ],
   "source": [
    "# Create Northern and Southern Hemisphere DataFrames\n",
    "n_df= main_df.loc[main_df[\"Lat\"]>= 0]\n",
    "\n",
    "s_df= main_df.loc[main_df[\"Lat\"]< 0]\n",
    "\n",
    "n_df.head()"
   ]
  },
  {
   "cell_type": "code",
   "execution_count": 17,
   "metadata": {},
   "outputs": [
    {
     "data": {
      "text/html": [
       "<div>\n",
       "<style scoped>\n",
       "    .dataframe tbody tr th:only-of-type {\n",
       "        vertical-align: middle;\n",
       "    }\n",
       "\n",
       "    .dataframe tbody tr th {\n",
       "        vertical-align: top;\n",
       "    }\n",
       "\n",
       "    .dataframe thead th {\n",
       "        text-align: right;\n",
       "    }\n",
       "</style>\n",
       "<table border=\"1\" class=\"dataframe\">\n",
       "  <thead>\n",
       "    <tr style=\"text-align: right;\">\n",
       "      <th></th>\n",
       "      <th>City</th>\n",
       "      <th>Country</th>\n",
       "      <th>Lat</th>\n",
       "      <th>Lng</th>\n",
       "      <th>Max Temperature (F)</th>\n",
       "      <th>Humidity (%)</th>\n",
       "      <th>Cloudiness (%)</th>\n",
       "      <th>Wind Speed (mph)</th>\n",
       "      <th>Date(dt)</th>\n",
       "    </tr>\n",
       "  </thead>\n",
       "  <tbody>\n",
       "    <tr>\n",
       "      <td>0</td>\n",
       "      <td>busselton</td>\n",
       "      <td>AU</td>\n",
       "      <td>-33.65</td>\n",
       "      <td>115.33</td>\n",
       "      <td>54.00</td>\n",
       "      <td>82</td>\n",
       "      <td>100</td>\n",
       "      <td>5.50</td>\n",
       "      <td>1592248796</td>\n",
       "    </tr>\n",
       "    <tr>\n",
       "      <td>1</td>\n",
       "      <td>mataura</td>\n",
       "      <td>NZ</td>\n",
       "      <td>-46.19</td>\n",
       "      <td>168.86</td>\n",
       "      <td>43.90</td>\n",
       "      <td>88</td>\n",
       "      <td>1</td>\n",
       "      <td>4.27</td>\n",
       "      <td>1592248796</td>\n",
       "    </tr>\n",
       "    <tr>\n",
       "      <td>3</td>\n",
       "      <td>vaini</td>\n",
       "      <td>TO</td>\n",
       "      <td>-21.20</td>\n",
       "      <td>-175.20</td>\n",
       "      <td>69.80</td>\n",
       "      <td>73</td>\n",
       "      <td>20</td>\n",
       "      <td>10.29</td>\n",
       "      <td>1592248797</td>\n",
       "    </tr>\n",
       "    <tr>\n",
       "      <td>5</td>\n",
       "      <td>punta arenas</td>\n",
       "      <td>CL</td>\n",
       "      <td>-53.15</td>\n",
       "      <td>-70.92</td>\n",
       "      <td>42.80</td>\n",
       "      <td>81</td>\n",
       "      <td>40</td>\n",
       "      <td>13.87</td>\n",
       "      <td>1592248670</td>\n",
       "    </tr>\n",
       "    <tr>\n",
       "      <td>7</td>\n",
       "      <td>tamandare</td>\n",
       "      <td>BR</td>\n",
       "      <td>-8.76</td>\n",
       "      <td>-35.10</td>\n",
       "      <td>78.51</td>\n",
       "      <td>85</td>\n",
       "      <td>14</td>\n",
       "      <td>11.99</td>\n",
       "      <td>1592248797</td>\n",
       "    </tr>\n",
       "  </tbody>\n",
       "</table>\n",
       "</div>"
      ],
      "text/plain": [
       "           City Country    Lat     Lng  Max Temperature (F)  Humidity (%)  \\\n",
       "0     busselton      AU -33.65  115.33                54.00            82   \n",
       "1       mataura      NZ -46.19  168.86                43.90            88   \n",
       "3         vaini      TO -21.20 -175.20                69.80            73   \n",
       "5  punta arenas      CL -53.15  -70.92                42.80            81   \n",
       "7     tamandare      BR  -8.76  -35.10                78.51            85   \n",
       "\n",
       "   Cloudiness (%)  Wind Speed (mph)    Date(dt)  \n",
       "0             100              5.50  1592248796  \n",
       "1               1              4.27  1592248796  \n",
       "3              20             10.29  1592248797  \n",
       "5              40             13.87  1592248670  \n",
       "7              14             11.99  1592248797  "
      ]
     },
     "execution_count": 17,
     "metadata": {},
     "output_type": "execute_result"
    }
   ],
   "source": [
    "s_df.head()"
   ]
  },
  {
   "cell_type": "markdown",
   "metadata": {},
   "source": [
    "####  Northern Hemisphere - Max Temp vs. Latitude Linear Regression"
   ]
  },
  {
   "cell_type": "code",
   "execution_count": 18,
   "metadata": {},
   "outputs": [
    {
     "name": "stdout",
     "output_type": "stream",
     "text": [
      "The r-value is: -0.79\n"
     ]
    },
    {
     "data": {
      "image/png": "[encoded data removed]",
      "text/plain": [
       "<Figure size 432x288 with 1 Axes>"
      ]
     },
     "metadata": {
      "needs_background": "light"
     },
     "output_type": "display_data"
    }
   ],
   "source": [
    "x_values= n_df[\"Lat\"]\n",
    "y_values= n_df[\"Max Temperature (F)\"]\n",
    "linearplot(x_values, y_values, \"Max Temperature (F)\", (6,30))\n",
    "\n",
    "\n",
    "plt.savefig(\"../Python_API/output_data/Northern_City Lat vs. Max_Temp(F).png\")\n",
    "plt.show()"
   ]
  },
  {
   "cell_type": "markdown",
   "metadata": {},
   "source": [
    "####  Southern Hemisphere - Max Temp vs. Latitude Linear Regression"
   ]
  },
  {
   "cell_type": "code",
   "execution_count": 19,
   "metadata": {},
   "outputs": [
    {
     "name": "stdout",
     "output_type": "stream",
     "text": [
      "The r-value is: 0.8\n"
     ]
    },
    {
     "data": {
      "image/png": "[encoded data removed]",
      "text/plain": [
       "<Figure size 432x288 with 1 Axes>"
      ]
     },
     "metadata": {
      "needs_background": "light"
     },
     "output_type": "display_data"
    }
   ],
   "source": [
    "x_values= s_df[\"Lat\"]\n",
    "y_values= s_df[\"Max Temperature (F)\"]\n",
    "linearplot(x_values, y_values, \"Max Temperature (F)\", (-30,30))\n",
    "plt.savefig(\"../Python_API/output_data/Southern_City Lat vs. Max_Temp(F).png\")\n",
    "plt.show()"
   ]
  },
  {
   "cell_type": "markdown",
   "metadata": {},
   "source": [
    "####  Northern Hemisphere - Humidity (%) vs. Latitude Linear Regression"
   ]
  },
  {
   "cell_type": "code",
   "execution_count": 20,
   "metadata": {},
   "outputs": [
    {
     "name": "stdout",
     "output_type": "stream",
     "text": [
      "The r-value is: 0.01\n"
     ]
    },
    {
     "data": {
      "image/png": "[encoded data removed]",
      "text/plain": [
       "<Figure size 432x288 with 1 Axes>"
      ]
     },
     "metadata": {
      "needs_background": "light"
     },
     "output_type": "display_data"
    }
   ],
   "source": [
    "x_values= n_df[\"Lat\"]\n",
    "y_values= n_df[\"Humidity (%)\"]\n",
    "linearplot(x_values, y_values, \"Humidity (%)\", (40,20))\n",
    "plt.savefig(\"../Python_API/output_data/Northern_City Lat vs. Humidity(%).png\")\n",
    "plt.show()"
   ]
  },
  {
   "cell_type": "markdown",
   "metadata": {},
   "source": [
    "####  Southern Hemisphere - Humidity (%) vs. Latitude Linear Regression"
   ]
  },
  {
   "cell_type": "code",
   "execution_count": 21,
   "metadata": {},
   "outputs": [
    {
     "name": "stdout",
     "output_type": "stream",
     "text": [
      "The r-value is: 0.01\n"
     ]
    },
    {
     "data": {
      "image/png": "[encoded data removed]",
      "text/plain": [
       "<Figure size 432x288 with 1 Axes>"
      ]
     },
     "metadata": {
      "needs_background": "light"
     },
     "output_type": "display_data"
    }
   ],
   "source": [
    "x_values= s_df[\"Lat\"]\n",
    "y_values= s_df[\"Humidity (%)\"]\n",
    "linearplot(x_values, y_values, \"Humidity (%)\", (-50,20))\n",
    "plt.savefig(\"../Python_API/output_data/Southern_City Lat vs. Humidity(%).png\")\n",
    "plt.show()"
   ]
  },
  {
   "cell_type": "markdown",
   "metadata": {},
   "source": [
    "####  Northern Hemisphere - Cloudiness (%) vs. Latitude Linear Regression"
   ]
  },
  {
   "cell_type": "code",
   "execution_count": 22,
   "metadata": {},
   "outputs": [
    {
     "name": "stdout",
     "output_type": "stream",
     "text": [
      "The r-value is: -0.01\n"
     ]
    },
    {
     "data": {
      "image/png": "[encoded data removed]",
      "text/plain": [
       "<Figure size 432x288 with 1 Axes>"
      ]
     },
     "metadata": {
      "needs_background": "light"
     },
     "output_type": "display_data"
    }
   ],
   "source": [
    "x_values= n_df[\"Lat\"]\n",
    "y_values= n_df[\"Cloudiness (%)\"]\n",
    "linearplot(x_values, y_values, \"Cloudiness (%)\", (10,20))\n",
    "plt.savefig(\"../Python_API/output_data/Northern_City Lat vs. Cloudiness (mph).png\")\n",
    "plt.show()"
   ]
  },
  {
   "cell_type": "markdown",
   "metadata": {},
   "source": [
    "####  Southern Hemisphere - Cloudiness (%) vs. Latitude Linear Regression"
   ]
  },
  {
   "cell_type": "code",
   "execution_count": 23,
   "metadata": {},
   "outputs": [
    {
     "name": "stdout",
     "output_type": "stream",
     "text": [
      "The r-value is: -0.08\n"
     ]
    },
    {
     "data": {
      "image/png": "[encoded data removed]",
      "text/plain": [
       "<Figure size 432x288 with 1 Axes>"
      ]
     },
     "metadata": {
      "needs_background": "light"
     },
     "output_type": "display_data"
    }
   ],
   "source": [
    "x_values=s_df[\"Lat\"]\n",
    "y_values= s_df[\"Cloudiness (%)\"]\n",
    "linearplot(x_values, y_values, \"Cloudiness (%)\", (-50,20))\n",
    "plt.savefig(\"../Python_API/output_data/Southern_City Lat vs. Cloudiness (mph).png\")\n",
    "plt.show()"
   ]
  },
  {
   "cell_type": "markdown",
   "metadata": {},
   "source": [
    "####  Northern Hemisphere - Wind Speed (mph) vs. Latitude Linear Regression"
   ]
  },
  {
   "cell_type": "code",
   "execution_count": 24,
   "metadata": {},
   "outputs": [
    {
     "name": "stdout",
     "output_type": "stream",
     "text": [
      "The r-value is: 0.05\n"
     ]
    },
    {
     "data": {
      "image/png": "[encoded data removed]",
      "text/plain": [
       "<Figure size 432x288 with 1 Axes>"
      ]
     },
     "metadata": {
      "needs_background": "light"
     },
     "output_type": "display_data"
    }
   ],
   "source": [
    "x_values= n_df[\"Lat\"]\n",
    "y_values= n_df[\"Wind Speed (mph)\"]\n",
    "linearplot(x_values, y_values, \"Wind Speed (mph)\", (10,25))\n",
    "plt.savefig(\"../Python_API/output_data/Northern_City Lat vs. Wind Speed (mph).png\")\n",
    "plt.show()"
   ]
  },
  {
   "cell_type": "markdown",
   "metadata": {},
   "source": [
    "####  Southern Hemisphere - Wind Speed (mph) vs. Latitude Linear Regression"
   ]
  },
  {
   "cell_type": "code",
   "execution_count": 25,
   "metadata": {},
   "outputs": [
    {
     "name": "stdout",
     "output_type": "stream",
     "text": [
      "The r-value is: -0.13\n"
     ]
    },
    {
     "data": {
      "image/png": "[encoded data removed]",
      "text/plain": [
       "<Figure size 432x288 with 1 Axes>"
      ]
     },
     "metadata": {
      "needs_background": "light"
     },
     "output_type": "display_data"
    }
   ],
   "source": [
    "x_values= s_df[\"Lat\"]\n",
    "y_values= s_df[\"Wind Speed (mph)\"]\n",
    "linearplot(x_values, y_values, \"Wind Speed (mph)\", (-50,15))\n",
    "plt.savefig(\"../Python_API/output_data/Southern_City Lat vs. Wind Speed (mph).png\")\n",
    "plt.show()"
   ]
  }
 ],
 "metadata": {
  "anaconda-cloud": {},
  "kernel_info": {
   "name": "python3"
  },
  "kernelspec": {
   "display_name": "Python 3",
   "language": "python",
   "name": "python3"
  },
  "language_info": {
   "codemirror_mode": {
    "name": "ipython",
    "version": 3
   },
   "file_extension": ".py",
   "mimetype": "text/x-python",
   "name": "python",
   "nbconvert_exporter": "python",
   "pygments_lexer": "ipython3",
   "version": "3.7.4"
  },
  "latex_envs": {
   "LaTeX_envs_menu_present": true,
   "autoclose": false,
   "autocomplete": true,
   "bibliofile": "biblio.bib",
   "cite_by": "apalike",
   "current_citInitial": 1,
   "eqLabelWithNumbers": true,
   "eqNumInitial": 1,
   "hotkeys": {
    "equation": "Ctrl-E",
    "itemize": "Ctrl-I"
   },
   "labels_anchors": false,
   "latex_user_defs": false,
   "report_style_numbering": false,
   "user_envs_cfg": false
  },
  "nteract": {
   "version": "0.12.3"
  }
 },
 "nbformat": 4,
 "nbformat_minor": 2
}
